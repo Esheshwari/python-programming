{
  "cells": [
    {
      "cell_type": "markdown",
      "metadata": {
        "id": "view-in-github",
        "colab_type": "text"
      },
      "source": [
        "<a href=\"https://colab.research.google.com/github/Esheshwari/python-programming/blob/main/Esheshwari_Kumari_numpy_exercises.ipynb\" target=\"_parent\"><img src=\"https://colab.research.google.com/assets/colab-badge.svg\" alt=\"Open In Colab\"/></a>"
      ]
    },
    {
      "cell_type": "markdown",
      "metadata": {
        "id": "JzkFGyvGci-y"
      },
      "source": [
        "# NumPy Practice\n",
        "\n",
        "This notebook offers a set of exercises for different tasks with NumPy.\n",
        "\n",
        "It should be noted there may be more than one different way to answer a question or complete an exercise.\n",
        "\n",
        "Exercises are based off (and directly taken from) the quick introduction to NumPy notebook.\n",
        "\n",
        "Different tasks will be detailed by comments or text.\n",
        "\n",
        "For further reference and resources, it's advised to check out the [NumPy documentation](https://numpy.org/devdocs/user/index.html).\n",
        "\n",
        "And if you get stuck, try searching for a question in the following format: \"how to do XYZ with numpy\", where XYZ is the function you want to leverage from NumPy."
      ]
    },
    {
      "cell_type": "code",
      "execution_count": null,
      "metadata": {
        "id": "dwfzf0mmci-1"
      },
      "outputs": [],
      "source": [
        "# Import NumPy as its abbreviation 'np'\n",
        "import numpy as np"
      ]
    },
    {
      "cell_type": "code",
      "execution_count": null,
      "metadata": {
        "colab": {
          "base_uri": "https://localhost:8080/"
        },
        "id": "DbvsqRmMci-3",
        "outputId": "aaaf43b0-f97e-40dd-a05c-e6ad01fdcd84"
      },
      "outputs": [
        {
          "output_type": "stream",
          "name": "stdout",
          "text": [
            "[1 2 3 4 5]\n",
            "[[1 2 3]\n",
            " [4 5 6]]\n",
            "[[[ 1  2  3]\n",
            "  [ 4  5  6]]\n",
            "\n",
            " [[ 7  8  9]\n",
            "  [10 11 12]]]\n"
          ]
        }
      ],
      "source": [
        "# Create a 1-dimensional NumPy array using np.array()\n",
        "import numpy as np\n",
        "\n",
        "# Creating a 1D NumPy array\n",
        "arr = np.array([1, 2, 3, 4, 5])\n",
        "# Displaying the array\n",
        "print(arr)\n",
        "\n",
        "# Create a 2-dimensional NumPy array using np.array()\n",
        "import numpy as np\n",
        "\n",
        "# Creating a 2D NumPy array\n",
        "arr = np.array([[1, 2, 3], [4, 5, 6]])\n",
        "# Displaying the array\n",
        "print(arr)\n",
        "\n",
        "# Create a 3-dimensional Numpy array using np.array()\n",
        "import numpy as np\n",
        "\n",
        "# Creating a 3D NumPy array\n",
        "arr = np.array([[[1, 2, 3], [4, 5, 6]],\n",
        "                [[7, 8, 9], [10, 11, 12]]])\n",
        "# Displaying the array\n",
        "print(arr)"
      ]
    },
    {
      "cell_type": "markdown",
      "metadata": {
        "id": "UhMrr8UYci-3"
      },
      "source": [
        "Now we've you've created 3 different arrays, let's find details about them.\n",
        "\n",
        "Find the shape, number of dimensions, data type, size and type of each array."
      ]
    },
    {
      "cell_type": "code",
      "execution_count": null,
      "metadata": {
        "colab": {
          "base_uri": "https://localhost:8080/"
        },
        "id": "WvTDfs1Wci-4",
        "outputId": "573fcae2-b289-4269-d85a-7d6d04a49e51"
      },
      "outputs": [
        {
          "output_type": "stream",
          "name": "stdout",
          "text": [
            "Array: [10 20 30 40 50]\n",
            "Shape: (5,)\n",
            "Number of Dimensions: 1\n",
            "Data Type: int64\n",
            "Size: 5\n",
            "Type: <class 'numpy.ndarray'>\n"
          ]
        }
      ],
      "source": [
        "# Attributes of 1-dimensional array (shape,\n",
        "# number of dimensions, data type, size and type)\n",
        "import numpy as np\n",
        "\n",
        "# Creating a 1D NumPy array\n",
        "arr = np.array([10, 20, 30, 40, 50])\n",
        "\n",
        "# Displaying attributes\n",
        "print(\"Array:\", arr)\n",
        "print(\"Shape:\", arr.shape)\n",
        "print(\"Number of Dimensions:\", arr.ndim)\n",
        "print(\"Data Type:\", arr.dtype)\n",
        "print(\"Size:\", arr.size)\n",
        "print(\"Type:\", type(arr))"
      ]
    },
    {
      "cell_type": "code",
      "execution_count": null,
      "metadata": {
        "colab": {
          "base_uri": "https://localhost:8080/"
        },
        "id": "nx9VsujMci-4",
        "outputId": "19a81a6f-2454-4e98-ab21-e0671a82b34f"
      },
      "outputs": [
        {
          "output_type": "stream",
          "name": "stdout",
          "text": [
            "Array:\n",
            " [[1 2 3]\n",
            " [4 5 6]]\n",
            "Shape: (2, 3)\n",
            "Number of Dimensions: 2\n",
            "Data Type: int64\n",
            "Size: 6\n",
            "Type: <class 'numpy.ndarray'>\n"
          ]
        }
      ],
      "source": [
        "# Attributes of 2-dimensional array\n",
        "import numpy as np\n",
        "\n",
        "# Creating a 2D NumPy array\n",
        "arr = np.array([[1, 2, 3],\n",
        "                [4, 5, 6]])\n",
        "\n",
        "# Displaying attributes\n",
        "print(\"Array:\\n\", arr)\n",
        "print(\"Shape:\", arr.shape)\n",
        "print(\"Number of Dimensions:\", arr.ndim)\n",
        "print(\"Data Type:\", arr.dtype)\n",
        "print(\"Size:\", arr.size)\n",
        "print(\"Type:\", type(arr))\n"
      ]
    },
    {
      "cell_type": "code",
      "execution_count": null,
      "metadata": {
        "colab": {
          "base_uri": "https://localhost:8080/"
        },
        "id": "pmjJCWcJci-4",
        "outputId": "13e75351-eefa-4e7f-dd09-1f323742cc82"
      },
      "outputs": [
        {
          "output_type": "stream",
          "name": "stdout",
          "text": [
            "Array:\n",
            " [[[ 1  2  3]\n",
            "  [ 4  5  6]]\n",
            "\n",
            " [[ 7  8  9]\n",
            "  [10 11 12]]]\n",
            "Shape: (2, 2, 3)\n",
            "Number of Dimensions: 3\n",
            "Data Type: int64\n",
            "Size: 12\n",
            "Type: <class 'numpy.ndarray'>\n"
          ]
        }
      ],
      "source": [
        "# Attributes of 3-dimensional array\n",
        "import numpy as np\n",
        "\n",
        "# Creating a 3D NumPy array\n",
        "arr = np.array([[[1, 2, 3], [4, 5, 6]],\n",
        "                [[7, 8, 9], [10, 11, 12]]])\n",
        "\n",
        "# Displaying attributes\n",
        "print(\"Array:\\n\", arr)\n",
        "print(\"Shape:\", arr.shape)\n",
        "print(\"Number of Dimensions:\", arr.ndim)\n",
        "print(\"Data Type:\", arr.dtype)\n",
        "print(\"Size:\", arr.size)\n",
        "print(\"Type:\", type(arr))\n"
      ]
    },
    {
      "cell_type": "code",
      "execution_count": null,
      "metadata": {
        "colab": {
          "base_uri": "https://localhost:8080/"
        },
        "id": "3TFPDKl1ci-5",
        "outputId": "3ed4942a-061b-4aef-b0a9-a15404a72750"
      },
      "outputs": [
        {
          "output_type": "stream",
          "name": "stdout",
          "text": [
            "[[1. 1.]\n",
            " [1. 1.]\n",
            " [1. 1.]\n",
            " [1. 1.]\n",
            " [1. 1.]\n",
            " [1. 1.]\n",
            " [1. 1.]\n",
            " [1. 1.]\n",
            " [1. 1.]\n",
            " [1. 1.]]\n",
            "Shape of array: (10, 2)\n"
          ]
        }
      ],
      "source": [
        "# Create an array of shape (10, 2) with only ones\n",
        "import numpy as np\n",
        "\n",
        "# Creating an array of ones with shape (10, 2)\n",
        "arr = np.ones((10, 2))\n",
        "# Displaying the array\n",
        "print(arr)\n",
        "# Verifying the shape\n",
        "print(\"Shape of array:\", arr.shape)\n"
      ]
    },
    {
      "cell_type": "code",
      "execution_count": null,
      "metadata": {
        "id": "VTXhaWvfci-5"
      },
      "outputs": [],
      "source": [
        "# Create an array of shape (7, 2, 3) of only zeros\n",
        "import numpy as np\n",
        "\n",
        "# Creating an array of zeros with shape (7, 2, 3)\n",
        "arr = np.zeros((7, 2, 3))\n",
        "# Displaying the array\n",
        "print(arr)\n",
        "# Verifying the shape\n",
        "print(\"Shape of array:\", arr.shape)\n",
        "\n"
      ]
    },
    {
      "cell_type": "code",
      "execution_count": null,
      "metadata": {
        "colab": {
          "base_uri": "https://localhost:8080/"
        },
        "id": "_zlg1mPvci-5",
        "outputId": "bf7c9189-27fd-4899-b35a-f6523bac0283"
      },
      "outputs": [
        {
          "output_type": "stream",
          "name": "stdout",
          "text": [
            "[ 0  3  6  9 12 15 18 21 24 27 30 33 36 39 42 45 48 51 54 57 60 63 66 69\n",
            " 72 75 78 81 84 87 90 93 96 99]\n"
          ]
        }
      ],
      "source": [
        "# Create an array within a range of 0 and 100 with step 3\n",
        "import numpy as np\n",
        "# Creating an array with values from 0 to 100 (exclusive) with a step of 3\n",
        "arr = np.arange(0, 100, 3)\n",
        "# Displaying the array\n",
        "print(arr)\n"
      ]
    },
    {
      "cell_type": "code",
      "execution_count": null,
      "metadata": {
        "id": "5DG2ECjyci-5"
      },
      "outputs": [],
      "source": [
        "# Create a random array with numbers between 0 and 10 of size (7, 2)\n",
        "import numpy as np\n",
        "# Creating a random array with values between 0 and 10 of shape (7,2)\n",
        "arr = np.random.randint(0, 10, size=(7, 2))\n",
        "# Displaying the array\n",
        "print(arr)"
      ]
    },
    {
      "cell_type": "code",
      "execution_count": null,
      "metadata": {
        "colab": {
          "base_uri": "https://localhost:8080/"
        },
        "id": "TZqzYzGVci-6",
        "outputId": "c849cd91-c19b-4033-9855-675e469d35f5"
      },
      "outputs": [
        {
          "output_type": "stream",
          "name": "stdout",
          "text": [
            "[[0.62336069 0.46064151 0.82661863 0.54528936 0.87943643]\n",
            " [0.01356616 0.81922147 0.04421051 0.78952805 0.22623172]\n",
            " [0.55578789 0.63940635 0.88084019 0.93007397 0.29788351]]\n"
          ]
        }
      ],
      "source": [
        "# Create a random array of floats between 0 & 1 of shape (3, 5)\n",
        "import numpy as np\n",
        "# Creating a random array of floats between 0 and 1 with shape (3, 5)\n",
        "arr = np.random.rand(3, 5)\n",
        "# Displaying the array\n",
        "print(arr)"
      ]
    },
    {
      "cell_type": "code",
      "execution_count": null,
      "metadata": {
        "colab": {
          "base_uri": "https://localhost:8080/"
        },
        "id": "XMqPALt2ci-6",
        "outputId": "d712a498-58da-4edf-87c7-66092a8ac3d1"
      },
      "outputs": [
        {
          "output_type": "stream",
          "name": "stdout",
          "text": [
            "[[6 3 7 4 6 9]\n",
            " [2 6 7 4 3 7]\n",
            " [7 2 5 4 1 7]\n",
            " [5 1 4 0 9 5]]\n"
          ]
        }
      ],
      "source": [
        "# Set the random seed to 42\n",
        "\n",
        "import numpy as np\n",
        "\n",
        "# Set the random seed\n",
        "np.random.seed(42)\n",
        "\n",
        "# Creating a random array of integers between 0 and 10 with shape (4, 6)\n",
        "arr = np.random.randint(0, 10, size=(4, 6))\n",
        "\n",
        "# Displaying the array\n",
        "print(arr)"
      ]
    },
    {
      "cell_type": "markdown",
      "metadata": {
        "id": "baJzEbnxci-6"
      },
      "source": [
        "Run the cell above again, what happens?\n",
        "\n",
        "Are the numbers in the array different or the same? Why do think this is?"
      ]
    },
    {
      "cell_type": "code",
      "execution_count": null,
      "metadata": {
        "colab": {
          "base_uri": "https://localhost:8080/"
        },
        "id": "vTUHRBpwci-6",
        "outputId": "0fa17583-3253-4c4b-b0c2-b286d8a94991"
      },
      "outputs": [
        {
          "output_type": "stream",
          "name": "stdout",
          "text": [
            "Array:\n",
            " [[ 9  1 10  3  7  4  9]\n",
            " [ 3  5  3  7  5  9  7]\n",
            " [ 2  4  9  2 10  9 10]]\n",
            "Unique Numbers: [ 1  2  3  4  5  7  9 10]\n"
          ]
        }
      ],
      "source": [
        "# Create an array of random numbers between 1 & 10 of size (3, 7)\n",
        "# and save it to a variable\n",
        "import numpy as np\n",
        "\n",
        "# Creating a random array of integers between 1 and 10 with shape (3, 7)\n",
        "arr = np.random.randint(1, 11, size=(3, 7))\n",
        "\n",
        "# Displaying the array\n",
        "print(\"Array:\\n\", arr)\n",
        "\n",
        "# Finding unique numbers in the array\n",
        "unique_numbers = np.unique(arr)\n",
        "\n",
        "# Displaying unique numbers\n",
        "print(\"Unique Numbers:\", unique_numbers)"
      ]
    },
    {
      "cell_type": "code",
      "execution_count": null,
      "metadata": {
        "colab": {
          "base_uri": "https://localhost:8080/"
        },
        "id": "rKBbytbkci-6",
        "outputId": "9d0b8e3b-0398-44f6-c6dc-339aeb3a4e53"
      },
      "outputs": [
        {
          "output_type": "stream",
          "name": "stdout",
          "text": [
            "Array:\n",
            " [[ 5  2  4  7  8  3  1]\n",
            " [ 4  2  8  4  2  6  6]\n",
            " [10  4  6  2 10  2 10]]\n",
            "0th Index (First Row): [5 2 4 7 8 3 1]\n"
          ]
        }
      ],
      "source": [
        "# Find the 0'th index of the latest array you created\n",
        "import numpy as np\n",
        "\n",
        "# Creating a random array of integers between 1 and 10 with shape (3, 7)\n",
        "arr = np.random.randint(1, 11, size=(3, 7))\n",
        "\n",
        "# Displaying the array\n",
        "print(\"Array:\\n\", arr)\n",
        "\n",
        "# Accessing the 0th index (first row)\n",
        "first_row = arr[0]\n",
        "\n",
        "# Displaying the first row\n",
        "print(\"0th Index (First Row):\", first_row)"
      ]
    },
    {
      "cell_type": "code",
      "execution_count": null,
      "metadata": {
        "colab": {
          "base_uri": "https://localhost:8080/"
        },
        "id": "09ZrZ77sci-6",
        "outputId": "a9220db1-cc95-4a85-c2ed-6f4c37f23223"
      },
      "outputs": [
        {
          "output_type": "stream",
          "name": "stdout",
          "text": [
            "Array:\n",
            " [[ 4  8  7  9  8  5  2]\n",
            " [ 5  8 10  9  9  1  9]\n",
            " [ 7  9  8  1  8  8  3]]\n",
            "First 2 Rows:\n",
            " [[ 4  8  7  9  8  5  2]\n",
            " [ 5  8 10  9  9  1  9]]\n"
          ]
        }
      ],
      "source": [
        "# Get the first 2 rows of latest array you created\n",
        "import numpy as np\n",
        "\n",
        "# Creating a random array of integers between 1 and 10 with shape (3, 7)\n",
        "arr = np.random.randint(1, 11, size=(3, 7))\n",
        "\n",
        "# Displaying the array\n",
        "print(\"Array:\\n\", arr)\n",
        "\n",
        "# Getting the first 2 rows\n",
        "first_two_rows = arr[:2]\n",
        "\n",
        "# Displaying the first 2 rows\n",
        "print(\"First 2 Rows:\\n\", first_two_rows)"
      ]
    },
    {
      "cell_type": "code",
      "execution_count": null,
      "metadata": {
        "colab": {
          "base_uri": "https://localhost:8080/"
        },
        "id": "YmMLmlUCci-6",
        "outputId": "6466c3d3-de8d-41aa-bfe1-bf504e5cb809"
      },
      "outputs": [
        {
          "output_type": "stream",
          "name": "stdout",
          "text": [
            "Array:\n",
            " [[ 1  8  3  3  1  5 10]\n",
            " [ 7 10  9  7  9  8  2]\n",
            " [ 1  7  7  8  5  3  8]]\n",
            "First 2 values of the first 2 rows:\n",
            " [[ 1  8]\n",
            " [ 7 10]]\n"
          ]
        }
      ],
      "source": [
        "# Get the first 2 values of the first 2 rows of the latest array\n",
        "import numpy as np\n",
        "\n",
        "# Creating a random array of integers between 1 and 10 with shape (3, 7)\n",
        "arr = np.random.randint(1, 11, size=(3, 7))\n",
        "\n",
        "# Displaying the array\n",
        "print(\"Array:\\n\", arr)\n",
        "\n",
        "# Getting the first 2 values of the first 2 rows\n",
        "subset = arr[:2, :2]\n",
        "\n",
        "# Displaying the subset\n",
        "print(\"First 2 values of the first 2 rows:\\n\", subset)"
      ]
    },
    {
      "cell_type": "code",
      "execution_count": null,
      "metadata": {
        "colab": {
          "base_uri": "https://localhost:8080/"
        },
        "id": "NtCUkqwBci-6",
        "outputId": "e2988232-a4d1-4ba4-9267-de544796c8b8"
      },
      "outputs": [
        {
          "output_type": "stream",
          "name": "stdout",
          "text": [
            "Random Array:\n",
            " [[5 2 0 2 4]\n",
            " [2 0 4 9 6]\n",
            " [6 8 9 9 2]]\n",
            "\n",
            "Array of Ones:\n",
            " [[1. 1. 1. 1. 1.]\n",
            " [1. 1. 1. 1. 1.]\n",
            " [1. 1. 1. 1. 1.]]\n"
          ]
        }
      ],
      "source": [
        "# Create a random array of numbers between 0 & 10 and an array of ones\n",
        "# both of size (3, 5), save them both to variables\n",
        "import numpy as np\n",
        "\n",
        "# Creating a random array of integers between 0 and 10 with shape (3, 5)\n",
        "random_array = np.random.randint(0, 10, size=(3, 5))\n",
        "\n",
        "# Creating an array of ones with shape (3, 5)\n",
        "ones_array = np.ones((3, 5))\n",
        "\n",
        "# Displaying the arrays\n",
        "print(\"Random Array:\\n\", random_array)\n",
        "print(\"\\nArray of Ones:\\n\", ones_array)\n"
      ]
    },
    {
      "cell_type": "code",
      "execution_count": null,
      "metadata": {
        "colab": {
          "base_uri": "https://localhost:8080/"
        },
        "id": "pNQPegy5ci-6",
        "outputId": "3afb0edc-fb4b-4bf8-804e-c2525fb57bf8"
      },
      "outputs": [
        {
          "output_type": "stream",
          "name": "stdout",
          "text": [
            "[[ 7  1  4  4  5]\n",
            " [ 7  7  4  7  3]\n",
            " [ 6  2 10  9  5]]\n"
          ]
        }
      ],
      "source": [
        "# Add the two arrays together\n",
        "import numpy as np\n",
        "\n",
        "# Creating two arrays\n",
        "array1 = np.random.randint(0, 10, size=(3, 5))\n",
        "array2 = np.ones((3, 5), dtype=int)\n",
        "\n",
        "# Adding the arrays\n",
        "result = array1 + array2\n",
        "\n",
        "# Printing the result\n",
        "print(result)"
      ]
    },
    {
      "cell_type": "code",
      "execution_count": null,
      "metadata": {
        "colab": {
          "base_uri": "https://localhost:8080/"
        },
        "id": "WHUjOPVIci-6",
        "outputId": "41cb0594-18ec-4d78-b1e2-95374c5c1e71"
      },
      "outputs": [
        {
          "output_type": "stream",
          "name": "stdout",
          "text": [
            "[[1. 1. 1.]\n",
            " [1. 1. 1.]\n",
            " [1. 1. 1.]\n",
            " [1. 1. 1.]\n",
            " [1. 1. 1.]]\n"
          ]
        }
      ],
      "source": [
        "# Create another array of ones of shape (5, 3)\n",
        "import numpy as np\n",
        "\n",
        "# Creating an array of ones with shape (5, 3)\n",
        "ones_array = np.ones((5, 3))\n",
        "\n",
        "# Printing the array\n",
        "print(ones_array)"
      ]
    },
    {
      "cell_type": "code",
      "execution_count": null,
      "metadata": {
        "colab": {
          "base_uri": "https://localhost:8080/"
        },
        "id": "2eU431aNci-6",
        "outputId": "81e49236-2446-4f45-96ee-e2525755954f"
      },
      "outputs": [
        {
          "output_type": "stream",
          "name": "stdout",
          "text": [
            "[[ 3  1  4  9  3]\n",
            " [ 9  7  4  3 10]\n",
            " [ 5  5  3  9  4]]\n"
          ]
        }
      ],
      "source": [
        "# Try add the array of ones and the other most recent array together\n",
        "import numpy as np\n",
        "\n",
        "# Creating a (3, 5) random array\n",
        "array1 = np.random.randint(0, 10, size=(3, 5))\n",
        "\n",
        "# Creating a (5, 3) ones array and then transpose to (3, 5)\n",
        "array2 = np.ones((5, 3), dtype=int).T\n",
        "\n",
        "# Adding the arrays together\n",
        "result = array1 + array2\n",
        "\n",
        "print(result)\n"
      ]
    },
    {
      "cell_type": "markdown",
      "metadata": {
        "id": "71sIib2vci-6"
      },
      "source": [
        "When you try the last cell, it produces an error. Why do think this is?\n",
        "=> Its a ValueError as operands could not be broadcast together with shapes\n",
        " (3,5) (5,3)\n",
        "\n",
        "How would you fix it?\n",
        "Transpose one of the arrays (array2.T) to match dimensions:\n",
        "result = array1 + array2.T\n",
        "print(result)\n",
        "Or reshape them into compatible shapes for broadcasting."
      ]
    },
    {
      "cell_type": "code",
      "execution_count": null,
      "metadata": {
        "colab": {
          "base_uri": "https://localhost:8080/"
        },
        "id": "oZKBoZXwci-6",
        "outputId": "b2e550a2-065f-4429-8fe0-b1e3e0c25a86"
      },
      "outputs": [
        {
          "output_type": "stream",
          "name": "stdout",
          "text": [
            "[[1 1 1 1 1]\n",
            " [1 1 1 1 1]\n",
            " [1 1 1 1 1]]\n"
          ]
        }
      ],
      "source": [
        "# Create another array of ones of shape (3, 5)\n",
        "import numpy as np\n",
        "\n",
        "# Creating an array of ones with shape (3, 5)\n",
        "ones_array = np.ones((3, 5), dtype=int)  # Using dtype=int to keep values as integers\n",
        "\n",
        "# Printing the array\n",
        "print(ones_array)\n"
      ]
    },
    {
      "cell_type": "code",
      "execution_count": null,
      "metadata": {
        "colab": {
          "base_uri": "https://localhost:8080/"
        },
        "id": "t2zrCWAjci-7",
        "outputId": "d3dd19d5-b641-42ef-8be2-511945b5ffb8"
      },
      "outputs": [
        {
          "output_type": "stream",
          "name": "stdout",
          "text": [
            "Random Array:\n",
            " [[7 8 4 0 2]\n",
            " [9 7 5 7 8]\n",
            " [3 0 0 9 3]]\n",
            "\n",
            "Array of Ones:\n",
            " [[1 1 1 1 1]\n",
            " [1 1 1 1 1]\n",
            " [1 1 1 1 1]]\n",
            "\n",
            "Result after Subtraction:\n",
            " [[ 6  7  3 -1  1]\n",
            " [ 8  6  4  6  7]\n",
            " [ 2 -1 -1  8  2]]\n"
          ]
        }
      ],
      "source": [
        "# Subtract the new array of ones from the other most recent array\n",
        "import numpy as np\n",
        "\n",
        "# Creating a (3,5) random array\n",
        "array1 = np.random.randint(0, 10, size=(3, 5))\n",
        "\n",
        "# Creating another (3,5) ones array\n",
        "ones_array = np.ones((3, 5), dtype=int)\n",
        "\n",
        "# Subtracting the ones array from the random array\n",
        "result = array1 - ones_array\n",
        "\n",
        "# Printing the arrays and result\n",
        "print(\"Random Array:\\n\", array1)\n",
        "print(\"\\nArray of Ones:\\n\", ones_array)\n",
        "print(\"\\nResult after Subtraction:\\n\", result)\n"
      ]
    },
    {
      "cell_type": "code",
      "execution_count": null,
      "metadata": {
        "colab": {
          "base_uri": "https://localhost:8080/"
        },
        "id": "NXBKUfn_ci-7",
        "outputId": "5f60ef07-0288-4360-caf8-848cd9b44c49"
      },
      "outputs": [
        {
          "output_type": "stream",
          "name": "stdout",
          "text": [
            "Random Array:\n",
            " [[6 1 2 0 4]\n",
            " [0 7 0 0 1]\n",
            " [1 5 6 4 0]]\n",
            "\n",
            "Array of Ones:\n",
            " [[1 1 1 1 1]\n",
            " [1 1 1 1 1]\n",
            " [1 1 1 1 1]]\n",
            "\n",
            "Result after Multiplication:\n",
            " [[6 1 2 0 4]\n",
            " [0 7 0 0 1]\n",
            " [1 5 6 4 0]]\n"
          ]
        }
      ],
      "source": [
        "# Multiply the ones array with the latest array\n",
        "import numpy as np\n",
        "\n",
        "# Creating a (3,5) random array\n",
        "array1 = np.random.randint(0, 10, size=(3, 5))\n",
        "\n",
        "# Creating another (3,5) ones array\n",
        "ones_array = np.ones((3, 5), dtype=int)\n",
        "\n",
        "# Multiplying the ones array with the random array\n",
        "result = array1 * ones_array\n",
        "\n",
        "# Printing the arrays and result\n",
        "print(\"Random Array:\\n\", array1)\n",
        "print(\"\\nArray of Ones:\\n\", ones_array)\n",
        "print(\"\\nResult after Multiplication:\\n\", result)"
      ]
    },
    {
      "cell_type": "code",
      "execution_count": null,
      "metadata": {
        "colab": {
          "base_uri": "https://localhost:8080/"
        },
        "id": "U4TH0c8eci-7",
        "outputId": "61d1001f-2359-4df8-b6dd-5b8195e11777"
      },
      "outputs": [
        {
          "output_type": "stream",
          "name": "stdout",
          "text": [
            "Random Array:\n",
            " [[0 2 1 4 9]\n",
            " [5 6 3 6 7]\n",
            " [0 5 7 4 3]]\n",
            "\n",
            "Array Squared:\n",
            " [[ 0  4  1 16 81]\n",
            " [25 36  9 36 49]\n",
            " [ 0 25 49 16  9]]\n"
          ]
        }
      ],
      "source": [
        "# Take the latest array to the power of 2 using '**'\n",
        "import numpy as np\n",
        "\n",
        "# Creating a (3,5) random array\n",
        "array1 = np.random.randint(0, 10, size=(3, 5))\n",
        "\n",
        "# Squaring each element using '**'\n",
        "result = array1 ** 2\n",
        "\n",
        "# Printing the original array and result\n",
        "print(\"Random Array:\\n\", array1)\n",
        "print(\"\\nArray Squared:\\n\", result)"
      ]
    },
    {
      "cell_type": "code",
      "execution_count": null,
      "metadata": {
        "colab": {
          "base_uri": "https://localhost:8080/"
        },
        "id": "Uqrywg_Lci-7",
        "outputId": "27cdee48-d55b-42d3-9625-b67d591d3fa2"
      },
      "outputs": [
        {
          "output_type": "stream",
          "name": "stdout",
          "text": [
            "Random Array:\n",
            " [[1 5 5 0 8]\n",
            " [5 2 3 3 2]\n",
            " [9 2 2 3 6]]\n",
            "\n",
            "Array Squared:\n",
            " [[ 1 25 25  0 64]\n",
            " [25  4  9  9  4]\n",
            " [81  4  4  9 36]]\n"
          ]
        }
      ],
      "source": [
        "# Do the same thing with np.square()\n",
        "import numpy as np\n",
        "\n",
        "# Creating a (3,5) random array\n",
        "array1 = np.random.randint(0, 10, size=(3, 5))\n",
        "\n",
        "# Squaring each element using np.square()\n",
        "result = np.square(array1)\n",
        "\n",
        "# Printing the original array and result\n",
        "print(\"Random Array:\\n\", array1)\n",
        "print(\"\\nArray Squared:\\n\", result)"
      ]
    },
    {
      "cell_type": "code",
      "execution_count": null,
      "metadata": {
        "colab": {
          "base_uri": "https://localhost:8080/"
        },
        "id": "G3331reKci-7",
        "outputId": "edf8d0c2-2380-4071-d475-c632c6a02010"
      },
      "outputs": [
        {
          "output_type": "stream",
          "name": "stdout",
          "text": [
            "Random Array:\n",
            " [[3 8 0 7 6]\n",
            " [1 7 0 8 8]\n",
            " [1 6 9 2 6]]\n",
            "\n",
            "Mean of the Array: 4.8\n"
          ]
        }
      ],
      "source": [
        "# Find the mean of the latest array using np.mean()\n",
        "import numpy as np\n",
        "\n",
        "# Creating a (3,5) random array\n",
        "array1 = np.random.randint(0, 10, size=(3, 5))\n",
        "\n",
        "# Finding the mean using np.mean()\n",
        "mean_value = np.mean(array1)\n",
        "\n",
        "# Printing the original array and mean\n",
        "print(\"Random Array:\\n\", array1)\n",
        "print(\"\\nMean of the Array:\", mean_value)"
      ]
    },
    {
      "cell_type": "code",
      "execution_count": null,
      "metadata": {
        "colab": {
          "base_uri": "https://localhost:8080/"
        },
        "id": "9a70AdkOci-7",
        "outputId": "e9cd5a2c-b010-47ff-fc4a-b995c8625b4e"
      },
      "outputs": [
        {
          "output_type": "stream",
          "name": "stdout",
          "text": [
            "Random Array:\n",
            " [[9 8 3 0 1]\n",
            " [0 4 4 6 8]\n",
            " [8 2 2 2 3]]\n",
            "\n",
            "Maximum Value in the Array: 9\n"
          ]
        }
      ],
      "source": [
        "# Find the maximum of the latest array using np.max()\n",
        "import numpy as np\n",
        "\n",
        "# Creating a (3,5) random array\n",
        "array1 = np.random.randint(0, 10, size=(3, 5))\n",
        "\n",
        "# Finding the maximum value using np.max()\n",
        "max_value = np.max(array1)\n",
        "\n",
        "# Printing the original array and maximum value\n",
        "print(\"Random Array:\\n\", array1)\n",
        "print(\"\\nMaximum Value in the Array:\", max_value)"
      ]
    },
    {
      "cell_type": "code",
      "execution_count": null,
      "metadata": {
        "colab": {
          "base_uri": "https://localhost:8080/"
        },
        "id": "FM_oU6Klci-7",
        "outputId": "4e049539-7e3e-427f-c982-4f54b0c653cf"
      },
      "outputs": [
        {
          "output_type": "stream",
          "name": "stdout",
          "text": [
            "Random Array:\n",
            " [[8 1 1 1 5]\n",
            " [2 8 3 0 3]\n",
            " [0 4 3 7 7]]\n",
            "\n",
            "Minimum Value in the Array: 0\n"
          ]
        }
      ],
      "source": [
        "# Find the minimum of the latest array using np.min()\n",
        "import numpy as np\n",
        "\n",
        "# Creating a (3,5) random array\n",
        "array1 = np.random.randint(0, 10, size=(3, 5))\n",
        "\n",
        "# Finding the minimum value using np.min()\n",
        "min_value = np.min(array1)\n",
        "\n",
        "# Printing the original array and minimum value\n",
        "print(\"Random Array:\\n\", array1)\n",
        "print(\"\\nMinimum Value in the Array:\", min_value)"
      ]
    },
    {
      "cell_type": "code",
      "execution_count": null,
      "metadata": {
        "colab": {
          "base_uri": "https://localhost:8080/"
        },
        "id": "BJReU_Ftci-7",
        "outputId": "3a14ee00-c9d7-42ef-c243-ed7429938597"
      },
      "outputs": [
        {
          "output_type": "stream",
          "name": "stdout",
          "text": [
            "Random Array:\n",
            " [[7 5 7 0 7]\n",
            " [3 0 7 3 5]\n",
            " [7 3 2 8 2]]\n",
            "\n",
            "Standard Deviation of the Array: 2.6280537792569367\n"
          ]
        }
      ],
      "source": [
        "# Find the standard deviation of the latest array\n",
        "import numpy as np\n",
        "\n",
        "# Creating a (3,5) random array\n",
        "array1 = np.random.randint(0, 10, size=(3, 5))\n",
        "\n",
        "# Finding the standard deviation using np.std()\n",
        "std_dev = np.std(array1)\n",
        "\n",
        "# Printing the original array and standard deviation\n",
        "print(\"Random Array:\\n\", array1)\n",
        "print(\"\\nStandard Deviation of the Array:\", std_dev)"
      ]
    },
    {
      "cell_type": "code",
      "execution_count": null,
      "metadata": {
        "colab": {
          "base_uri": "https://localhost:8080/"
        },
        "id": "tjVFnPjMci-7",
        "outputId": "8222a5ee-c87f-4162-afbe-65916339fa6f"
      },
      "outputs": [
        {
          "output_type": "stream",
          "name": "stdout",
          "text": [
            "Random Array:\n",
            " [[6 2 0 0 2]\n",
            " [5 6 5 5 5]\n",
            " [2 5 7 1 4]]\n",
            "\n",
            "Variance of the Array: 4.888888888888889\n"
          ]
        }
      ],
      "source": [
        "# Find the variance of the latest array\n",
        "import numpy as np\n",
        "\n",
        "# Creating a (3,5) random array\n",
        "array1 = np.random.randint(0, 10, size=(3, 5))\n",
        "\n",
        "# Finding the variance using np.var()\n",
        "variance = np.var(array1)\n",
        "\n",
        "# Printing the original array and variance\n",
        "print(\"Random Array:\\n\", array1)\n",
        "print(\"\\nVariance of the Array:\", variance)"
      ]
    },
    {
      "cell_type": "code",
      "execution_count": null,
      "metadata": {
        "colab": {
          "base_uri": "https://localhost:8080/"
        },
        "id": "5FLqJk8Eci-7",
        "outputId": "9f1975b1-0676-4e32-9ae9-321593453a34"
      },
      "outputs": [
        {
          "output_type": "stream",
          "name": "stdout",
          "text": [
            "Original Array Shape: (3, 5)\n",
            "\n",
            "Reshaped Array Shape: (3, 5, 1)\n",
            "\n",
            "Reshaped Array:\n",
            " [[[0]\n",
            "  [0]\n",
            "  [4]\n",
            "  [2]\n",
            "  [3]]\n",
            "\n",
            " [[2]\n",
            "  [0]\n",
            "  [0]\n",
            "  [4]\n",
            "  [5]]\n",
            "\n",
            " [[2]\n",
            "  [8]\n",
            "  [4]\n",
            "  [7]\n",
            "  [0]]]\n"
          ]
        }
      ],
      "source": [
        "# Reshape the latest array to (3, 5, 1)\n",
        "import numpy as np\n",
        "\n",
        "# Creating a (3,5) random array\n",
        "array1 = np.random.randint(0, 10, size=(3, 5))\n",
        "\n",
        "# Reshaping the array to (3,5,1)\n",
        "reshaped_array = array1.reshape(3, 5, 1)\n",
        "\n",
        "# Printing the original and reshaped array\n",
        "print(\"Original Array Shape:\", array1.shape)\n",
        "print(\"\\nReshaped Array Shape:\", reshaped_array.shape)\n",
        "print(\"\\nReshaped Array:\\n\", reshaped_array)"
      ]
    },
    {
      "cell_type": "code",
      "execution_count": null,
      "metadata": {
        "colab": {
          "base_uri": "https://localhost:8080/"
        },
        "id": "B10pmxu4ci-7",
        "outputId": "3dc59aa3-6ed3-48e9-a8b1-40abd2aea032"
      },
      "outputs": [
        {
          "output_type": "stream",
          "name": "stdout",
          "text": [
            "Original Shape: (3, 5, 1)\n",
            "Transposed Shape: (5, 3, 1)\n",
            "\n",
            "Transposed Array:\n",
            " [[[4]\n",
            "  [6]\n",
            "  [9]]\n",
            "\n",
            " [[2]\n",
            "  [0]\n",
            "  [5]]\n",
            "\n",
            " [[0]\n",
            "  [2]\n",
            "  [9]]\n",
            "\n",
            " [[3]\n",
            "  [1]\n",
            "  [2]]\n",
            "\n",
            " [[4]\n",
            "  [8]\n",
            "  [7]]]\n"
          ]
        }
      ],
      "source": [
        "# Transpose the latest array\n",
        "import numpy as np\n",
        "\n",
        "# Creating a (3,5) random array\n",
        "array1 = np.random.randint(0, 10, size=(3, 5))\n",
        "\n",
        "# Reshaping to (3,5,1)\n",
        "reshaped_array = array1.reshape(3, 5, 1)\n",
        "\n",
        "# Transposing the reshaped array\n",
        "transposed_array = reshaped_array.transpose(1, 0, 2)  # Swaps axes\n",
        "\n",
        "# Printing shapes and transposed array\n",
        "print(\"Original Shape:\", reshaped_array.shape)\n",
        "print(\"Transposed Shape:\", transposed_array.shape)\n",
        "print(\"\\nTransposed Array:\\n\", transposed_array)"
      ]
    },
    {
      "cell_type": "markdown",
      "metadata": {
        "id": "6a-_cVPrci-7"
      },
      "source": [
        "What does the transpose do? =>The transpose operation rearranges the axes of an array, effectively flipping rows and columns (or higher-dimensional equivalents)."
      ]
    },
    {
      "cell_type": "code",
      "execution_count": null,
      "metadata": {
        "colab": {
          "base_uri": "https://localhost:8080/"
        },
        "id": "znHwZQMMci-7",
        "outputId": "1ed820c5-043d-4a0f-f2dd-33f4d4f086d2"
      },
      "outputs": [
        {
          "output_type": "stream",
          "name": "stdout",
          "text": [
            "First Array (3x3):\n",
            " [[7 1 5]\n",
            " [6 1 9]\n",
            " [1 9 0]]\n",
            "\n",
            "Second Array (3x2):\n",
            " [[7 0]\n",
            " [8 5]\n",
            " [6 9]]\n"
          ]
        }
      ],
      "source": [
        "# Create two arrays of random integers between 0 to 10\n",
        "# one of size (3, 3) the other of size (3, 2)\n",
        "import numpy as np\n",
        "\n",
        "# Creating a (3,3) random integer array\n",
        "array1 = np.random.randint(0, 10, size=(3, 3))\n",
        "\n",
        "# Creating a (3,2) random integer array\n",
        "array2 = np.random.randint(0, 10, size=(3, 2))\n",
        "\n",
        "# Printing the generated arrays\n",
        "print(\"First Array (3x3):\\n\", array1)\n",
        "print(\"\\nSecond Array (3x2):\\n\", array2)\n"
      ]
    },
    {
      "cell_type": "code",
      "execution_count": null,
      "metadata": {
        "colab": {
          "base_uri": "https://localhost:8080/"
        },
        "id": "-XwW0Ui3ci-8",
        "outputId": "647398f1-d68d-4839-d865-461ceefa7506"
      },
      "outputs": [
        {
          "output_type": "stream",
          "name": "stdout",
          "text": [
            "First Array (3x3):\n",
            " [[6 9 2]\n",
            " [1 8 7]\n",
            " [9 6 8]]\n",
            "\n",
            "Second Array (3x2):\n",
            " [[3 3]\n",
            " [0 7]\n",
            " [2 6]]\n",
            "\n",
            "Dot Product Result (3x2):\n",
            " [[ 22  93]\n",
            " [ 17 101]\n",
            " [ 43 117]]\n"
          ]
        }
      ],
      "source": [
        "# Perform a dot product on the two newest arrays you created\n",
        "import numpy as np\n",
        "\n",
        "# Creating two random arrays\n",
        "array1 = np.random.randint(0, 10, size=(3, 3))  # Shape (3,3)\n",
        "array2 = np.random.randint(0, 10, size=(3, 2))  # Shape (3,2)\n",
        "\n",
        "# Performing dot product\n",
        "dot_product = np.dot(array1, array2)  # OR array1 @ array2\n",
        "\n",
        "# Printing the arrays and result\n",
        "print(\"First Array (3x3):\\n\", array1)\n",
        "print(\"\\nSecond Array (3x2):\\n\", array2)\n",
        "print(\"\\nDot Product Result (3x2):\\n\", dot_product)\n"
      ]
    },
    {
      "cell_type": "code",
      "execution_count": null,
      "metadata": {
        "id": "2ZeN3vuzci-8"
      },
      "outputs": [],
      "source": [
        "# Create two arrays of random integers between 0 to 10\n",
        "# both of size (4, 3)\n",
        "import numpy as np\n",
        "\n",
        "# Creating two (4,3) random integer arrays\n",
        "array1 = np.random.randint(0, 10, size=(4, 3))\n",
        "array2 = np.random.randint(0, 10, size=(4, 3))\n",
        "\n",
        "# Printing the generated arrays\n",
        "print(\"First Array (4x3):\\n\", array1)\n",
        "print(\"\\nSecond Array (4x3):\\n\", array2)"
      ]
    },
    {
      "cell_type": "code",
      "execution_count": null,
      "metadata": {
        "colab": {
          "base_uri": "https://localhost:8080/"
        },
        "id": "QiQV82ecci_A",
        "outputId": "81496289-fca7-4e99-dcea-083b06c78154"
      },
      "outputs": [
        {
          "output_type": "stream",
          "name": "stdout",
          "text": [
            "First Array (4x3):\n",
            " [[1 5 8]\n",
            " [7 4 0]\n",
            " [6 4 5]\n",
            " [6 2 9]]\n",
            "\n",
            "Second Array (4x3):\n",
            " [[2 4 5]\n",
            " [8 4 0]\n",
            " [3 4 9]\n",
            " [9 4 6]]\n",
            "\n",
            "Transposed First Array (3x4):\n",
            " [[1 7 6 6]\n",
            " [5 4 4 2]\n",
            " [8 0 5 9]]\n",
            "\n",
            "Dot Product Result (3x3):\n",
            " [[130  80  95]\n",
            " [ 72  60  73]\n",
            " [112  88 139]]\n"
          ]
        }
      ],
      "source": [
        "# Perform a dot product on the two newest arrays you created\n",
        "import numpy as np\n",
        "\n",
        "# Creating two (4,3) random integer arrays\n",
        "array1 = np.random.randint(0, 10, size=(4, 3))\n",
        "array2 = np.random.randint(0, 10, size=(4, 3))\n",
        "\n",
        "# Transposing the first array to (3,4) so we can perform dot product\n",
        "array1_T = array1.T  # Transpose from (4,3) to (3,4)\n",
        "\n",
        "# Performing dot product\n",
        "dot_product = np.dot(array1_T, array2)  # OR array1_T @ array2\n",
        "\n",
        "# Printing the arrays and result\n",
        "print(\"First Array (4x3):\\n\", array1)\n",
        "print(\"\\nSecond Array (4x3):\\n\", array2)\n",
        "print(\"\\nTransposed First Array (3x4):\\n\", array1_T)\n",
        "print(\"\\nDot Product Result (3x3):\\n\", dot_product)\n",
        "\n"
      ]
    },
    {
      "cell_type": "markdown",
      "metadata": {
        "id": "4ghE3eNwci_A"
      },
      "source": [
        "It doesn't work. How would you fix it?=>By transposing array1 to (3,4), the operation becomes:\n",
        "(3,4) × (4,3) = (3,3) Now it works!\n",
        "The final output is a (3,3) matrix instead of an invalid shape"
      ]
    },
    {
      "cell_type": "code",
      "execution_count": null,
      "metadata": {
        "colab": {
          "base_uri": "https://localhost:8080/"
        },
        "id": "ApD-lGzXci_A",
        "outputId": "a93fb7c7-a41b-40fc-f740-c341d9f60a7d"
      },
      "outputs": [
        {
          "output_type": "stream",
          "name": "stdout",
          "text": [
            "First Array (4x3):\n",
            " [[3 0 4]\n",
            " [6 9 9]\n",
            " [5 4 3]\n",
            " [1 3 9]]\n",
            "\n",
            "Second Array (4x3):\n",
            " [[9 2 9]\n",
            " [0 7 4]\n",
            " [3 7 6]\n",
            " [1 0 3]]\n",
            "\n",
            "Transposed Second Array (3x4):\n",
            " [[9 0 3 1]\n",
            " [2 7 7 0]\n",
            " [9 4 6 3]]\n",
            "\n",
            "Dot Product Result (4x4):\n",
            " [[ 63  16  33  15]\n",
            " [153  99 135  33]\n",
            " [ 80  40  61  14]\n",
            " [ 96  57  78  28]]\n"
          ]
        }
      ],
      "source": [
        "# Take the latest two arrays, perform a transpose on one of them and then perform\n",
        "# a dot product on them both\n",
        "import numpy as np\n",
        "\n",
        "# Creating two (4,3) random integer arrays\n",
        "array1 = np.random.randint(0, 10, size=(4, 3))\n",
        "array2 = np.random.randint(0, 10, size=(4, 3))\n",
        "\n",
        "# Transposing the second array to (3,4) to align dimensions\n",
        "array2_T = array2.T  # (4,3) → (3,4)\n",
        "\n",
        "# Performing dot product\n",
        "dot_product = np.dot(array1, array2_T)  # OR array1 @ array2_T\n",
        "\n",
        "# Printing the arrays and result\n",
        "print(\"First Array (4x3):\\n\", array1)\n",
        "print(\"\\nSecond Array (4x3):\\n\", array2)\n",
        "print(\"\\nTransposed Second Array (3x4):\\n\", array2_T)\n",
        "print(\"\\nDot Product Result (4x4):\\n\", dot_product)\n"
      ]
    },
    {
      "cell_type": "markdown",
      "metadata": {
        "id": "g3OOdMHVci_B"
      },
      "source": [
        "Notice how performing a transpose allows the dot product to happen.\n",
        "\n",
        "Why is this?=>Dot product rule: (m, n) * (n, p) = (m, p).\n",
        "Both arrays start as (4,3), so we transpose one to (3,4).\n",
        "This allows the dot product to result in a (4,4) matrix.\n",
        "\n",
        "Checking out the documentation on [`np.dot()`](https://docs.scipy.org/doc/numpy/reference/generated/numpy.dot.html) may help, as well as reading [Math is Fun's guide on the dot product](https://www.mathsisfun.com/algebra/vectors-dot-product.html).\n",
        "\n",
        "Let's now compare arrays."
      ]
    },
    {
      "cell_type": "code",
      "execution_count": null,
      "metadata": {
        "colab": {
          "base_uri": "https://localhost:8080/"
        },
        "id": "BXs2X3J3ci_B",
        "outputId": "66353820-ab10-4768-a2ac-9ff2bd6cc5bb"
      },
      "outputs": [
        {
          "output_type": "stream",
          "name": "stdout",
          "text": [
            "[[ 7  1  2  0  0]\n",
            " [ 2 10  4  2  0]\n",
            " [ 0  7  9 10  1]\n",
            " [ 2  1  2  6  0]\n",
            " [ 9  7  9  9  9]]\n",
            "[[ 1  2  8  6  3]\n",
            " [ 9  4  1 10  7]\n",
            " [ 3  8  4  8  3]\n",
            " [ 9  4  8  7  2]\n",
            " [ 0  2  3  1  0]]\n"
          ]
        }
      ],
      "source": [
        "# Create two arrays of random integers between 0 & 10 of the same shape\n",
        "# and save them to variables\n",
        "import numpy as np\n",
        "\n",
        "# Create two arrays of random integers between 0 & 10 with the same shape\n",
        "array1 = np.random.randint(0, 11, size=(5, 5))\n",
        "array2 = np.random.randint(0, 11, size=(5, 5))\n",
        "\n",
        "print(array1)\n",
        "print(array2)"
      ]
    },
    {
      "cell_type": "code",
      "execution_count": null,
      "metadata": {
        "colab": {
          "base_uri": "https://localhost:8080/"
        },
        "id": "FYz7NtA6ci_B",
        "outputId": "368a72c4-704a-4cd0-a220-238e1918e6c2"
      },
      "outputs": [
        {
          "output_type": "stream",
          "name": "stdout",
          "text": [
            "[False False  True False  True]\n"
          ]
        }
      ],
      "source": [
        "# Compare the two arrays with '>'\n",
        "import numpy as np\n",
        "\n",
        "# Creating two NumPy arrays\n",
        "array1 = np.array([1, 2, 3, 4, 5])\n",
        "array2 = np.array([3, 2, 1, 5, 4])\n",
        "\n",
        "# Comparing the arrays using '>'\n",
        "result = array1 > array2\n",
        "\n",
        "print(result)\n"
      ]
    },
    {
      "cell_type": "markdown",
      "metadata": {
        "id": "CTPDFkqNci_B"
      },
      "source": [
        "What happens when you compare the arrays with `>`?=>using the > operator, we get a new array of the same shape with boolean values. Each boolean value indicates whether the comparison is true or false for the corresponding elements of the original arrays."
      ]
    },
    {
      "cell_type": "code",
      "execution_count": null,
      "metadata": {
        "colab": {
          "base_uri": "https://localhost:8080/"
        },
        "id": "upLk8u9Kci_B",
        "outputId": "2b691160-c187-406b-e396-9d4e7cd7c167"
      },
      "outputs": [
        {
          "output_type": "stream",
          "name": "stdout",
          "text": [
            "[False  True  True False  True]\n"
          ]
        }
      ],
      "source": [
        "# Compare the two arrays with '>='\n",
        "import numpy as np\n",
        "\n",
        "# Creating two NumPy arrays\n",
        "array1 = np.array([1, 2, 3, 4, 5])\n",
        "array2 = np.array([3, 2, 1, 5, 4])\n",
        "\n",
        "# Comparing the arrays using '>='\n",
        "result = array1 >= array2\n",
        "\n",
        "print(result)"
      ]
    },
    {
      "cell_type": "code",
      "execution_count": null,
      "metadata": {
        "colab": {
          "base_uri": "https://localhost:8080/"
        },
        "id": "ihs3JThQci_B",
        "outputId": "09670166-b951-4141-e0fb-9a1e6337dba4"
      },
      "outputs": [
        {
          "output_type": "stream",
          "name": "stdout",
          "text": [
            "[False  True False  True False  True False]\n"
          ]
        }
      ],
      "source": [
        "# Find which elements of the first array are greater than 7\n",
        "import numpy as np\n",
        "\n",
        "# Creating a NumPy array\n",
        "array = np.array([3, 8, 6, 10, 7, 12, 5])\n",
        "\n",
        "# Finding elements greater than 7\n",
        "result = array > 7\n",
        "\n",
        "print(result)"
      ]
    },
    {
      "cell_type": "markdown",
      "source": [],
      "metadata": {
        "id": "C21IB2JTlKWT"
      }
    },
    {
      "cell_type": "code",
      "execution_count": null,
      "metadata": {
        "colab": {
          "base_uri": "https://localhost:8080/"
        },
        "id": "UF7z7hSXci_B",
        "outputId": "eeaa3bd8-f32d-4e11-e44c-eb1fe9643c9c"
      },
      "outputs": [
        {
          "output_type": "stream",
          "name": "stdout",
          "text": [
            "[False  True False False False]\n"
          ]
        }
      ],
      "source": [
        "# Which parts of each array are equal? (try using '==')\n",
        "import numpy as np\n",
        "\n",
        "# Creating two NumPy arrays\n",
        "array1 = np.array([1, 2, 3, 4, 5])\n",
        "array2 = np.array([3, 2, 1, 5, 4])\n",
        "\n",
        "# Comparing the arrays using '=='\n",
        "result = array1 == array2\n",
        "\n",
        "print(result)\n"
      ]
    },
    {
      "cell_type": "markdown",
      "source": [],
      "metadata": {
        "id": "FB4Tsn0QlRXN"
      }
    },
    {
      "cell_type": "code",
      "execution_count": null,
      "metadata": {
        "colab": {
          "base_uri": "https://localhost:8080/"
        },
        "id": "gvP8hbcFci_B",
        "outputId": "1a759b1e-b018-43ae-d282-73adfde51ed2"
      },
      "outputs": [
        {
          "output_type": "stream",
          "name": "stdout",
          "text": [
            "[1 2 3 4 5]\n"
          ]
        }
      ],
      "source": [
        "# Sort one of the arrays you just created in ascending order\n",
        "import numpy as np\n",
        "\n",
        "# Creating the NumPy array\n",
        "array1 = np.array([1, 2, 3, 4, 5])\n",
        "\n",
        "# Sorting the array in ascending order\n",
        "sorted_array1 = np.sort(array1)\n",
        "\n",
        "print(sorted_array1)\n"
      ]
    },
    {
      "cell_type": "code",
      "execution_count": null,
      "metadata": {
        "colab": {
          "base_uri": "https://localhost:8080/"
        },
        "id": "PMdbYpc_ci_B",
        "outputId": "50aed9e8-90b7-47e8-a825-30ac3224fefc"
      },
      "outputs": [
        {
          "output_type": "stream",
          "name": "stdout",
          "text": [
            "[2 1 0 4 3]\n"
          ]
        }
      ],
      "source": [
        "# Sort the indexes of one of the arrays you just created\n",
        "import numpy as np\n",
        "\n",
        "# Creating the NumPy array\n",
        "array2 = np.array([3, 2, 1, 5, 4])\n",
        "\n",
        "# Sorting the indexes of the array\n",
        "sorted_indexes = np.argsort(array2)\n",
        "\n",
        "print(sorted_indexes)"
      ]
    },
    {
      "cell_type": "code",
      "execution_count": null,
      "metadata": {
        "colab": {
          "base_uri": "https://localhost:8080/"
        },
        "id": "Xy0p900Lci_B",
        "outputId": "e40b79ae-b8a6-4e7d-b18e-03556d88c95d"
      },
      "outputs": [
        {
          "output_type": "stream",
          "name": "stdout",
          "text": [
            "3\n"
          ]
        }
      ],
      "source": [
        "# Find the index with the maximum value in one of the arrays you've created\n",
        "import numpy as np\n",
        "\n",
        "# Creating the NumPy array\n",
        "array2 = np.array([3, 2, 1, 5, 4])\n",
        "\n",
        "# Finding the index with the maximum value\n",
        "max_index = np.argmax(array2)\n",
        "\n",
        "print(max_index)"
      ]
    },
    {
      "cell_type": "code",
      "execution_count": null,
      "metadata": {
        "colab": {
          "base_uri": "https://localhost:8080/"
        },
        "id": "xlDvJOTIci_B",
        "outputId": "b8349ccc-efb5-4f77-fc0e-02ab97fffad5"
      },
      "outputs": [
        {
          "output_type": "stream",
          "name": "stdout",
          "text": [
            "2\n"
          ]
        }
      ],
      "source": [
        "# Find the index with the minimum value in one of the arrays you've created\n",
        "import numpy as np\n",
        "\n",
        "# Creating the NumPy array\n",
        "array2 = np.array([3, 2, 1, 5, 4])\n",
        "\n",
        "# Finding the index with the minimum value\n",
        "min_index = np.argmin(array2)\n",
        "\n",
        "print(min_index)"
      ]
    },
    {
      "cell_type": "code",
      "execution_count": null,
      "metadata": {
        "colab": {
          "base_uri": "https://localhost:8080/"
        },
        "id": "rwJig5Swci_B",
        "outputId": "2f090581-7431-4af7-da1a-224dae0971d4"
      },
      "outputs": [
        {
          "output_type": "stream",
          "name": "stdout",
          "text": [
            "[0 2 2]\n"
          ]
        }
      ],
      "source": [
        "# Find the indexes with the maximum values down the 1st axis (axis=1)\n",
        "# of one of the arrays you created\n",
        "import numpy as np\n",
        "\n",
        "# Creating a 2D NumPy array\n",
        "array = np.array([[3, 2, 1],\n",
        "                  [5, 4, 6],\n",
        "                  [7, 8, 9]])\n",
        "\n",
        "# Finding the indexes with the maximum values down the 1st axis (rows)\n",
        "max_indexes = np.argmax(array, axis=1)\n",
        "\n",
        "print(max_indexes)\n"
      ]
    },
    {
      "cell_type": "code",
      "execution_count": null,
      "metadata": {
        "colab": {
          "base_uri": "https://localhost:8080/"
        },
        "id": "C7s4cGRuci_B",
        "outputId": "14d774cf-449c-457b-8f61-b17d7454ff70"
      },
      "outputs": [
        {
          "output_type": "stream",
          "name": "stdout",
          "text": [
            "[0 0 0]\n"
          ]
        }
      ],
      "source": [
        "# Find the indexes with the minimum values across the 0th axis (axis=0)\n",
        "# of one of the arrays you created\n",
        "import numpy as np\n",
        "\n",
        "# Creating a 2D NumPy array\n",
        "array = np.array([[3, 2, 1],\n",
        "                  [5, 4, 6],\n",
        "                  [7, 8, 9]])\n",
        "\n",
        "# Finding the indexes with the minimum values across the 0th axis (columns)\n",
        "min_indexes = np.argmin(array, axis=0)\n",
        "\n",
        "print(min_indexes)"
      ]
    },
    {
      "cell_type": "code",
      "execution_count": null,
      "metadata": {
        "colab": {
          "base_uri": "https://localhost:8080/"
        },
        "id": "K14ivCKBci_B",
        "outputId": "a615bebf-f7f7-4935-e317-607285fa1100"
      },
      "outputs": [
        {
          "output_type": "stream",
          "name": "stdout",
          "text": [
            "[-0.66920273  1.16193732  1.55285978 -0.43951788 -0.40791535  0.26162306\n",
            "  0.01214651  0.93093408 -0.52318809  0.94914299]\n"
          ]
        }
      ],
      "source": [
        "# Create an array of normally distributed random numbers\n",
        "import numpy as np\n",
        "\n",
        "# Creating an array of normally distributed random numbers\n",
        "mean = 0     # Mean of the distribution\n",
        "std_dev = 1  # Standard deviation of the distribution\n",
        "size = 10    # Number of random numbers\n",
        "\n",
        "random_array = np.random.normal(mean, std_dev, size)\n",
        "\n",
        "print(random_array)"
      ]
    },
    {
      "cell_type": "code",
      "execution_count": null,
      "metadata": {
        "colab": {
          "base_uri": "https://localhost:8080/"
        },
        "id": "7G86Lf21ci_B",
        "outputId": "63489601-04e6-4904-a155-5112fcb76b41"
      },
      "outputs": [
        {
          "output_type": "stream",
          "name": "stdout",
          "text": [
            "[  1.  12.  23.  34.  45.  56.  67.  78.  89. 100.]\n"
          ]
        }
      ],
      "source": [
        "# Create an array with 10 evenly spaced numbers between 1 and 100\n",
        "import numpy as np\n",
        "\n",
        "# Creating an array with 10 evenly spaced numbers between 1 and 100\n",
        "evenly_spaced_array = np.linspace(1, 100, 10)\n",
        "\n",
        "print(evenly_spaced_array)\n"
      ]
    },
    {
      "cell_type": "markdown",
      "metadata": {
        "id": "8j1AOKYNci_B"
      },
      "source": [
        "## Extensions\n",
        "\n",
        "For more exercises, check out the [NumPy quickstart tutorial](https://numpy.org/doc/stable/user/quickstart.html). A good practice would be to read through it and for the parts you find interesting, add them into the end of this notebook.\n",
        "\n",
        "Pay particular attention to the section on broadcasting. And most importantly, get hands-on with the code as much as possible. If in dobut, run the code, see what it does.\n",
        "\n",
        "Finally, as always, remember, the best way to learn something new is to try it. And try it relentlessly. If you get interested in some kind of NumPy function, asking yourself, \"I wonder if NumPy could do that?\", go and find out."
      ]
    },
    {
      "cell_type": "markdown",
      "metadata": {
        "id": "LQmtLaA4ci_C"
      },
      "source": [
        "\n",
        "\n"
      ]
    },
    {
      "cell_type": "markdown",
      "metadata": {
        "id": "zK8uj7p_ci_C"
      },
      "source": [
        "What happens when you try to broadcast a (3,) array with a (4,) array?\n",
        "=>Broadcasting in NumPy allows you to perform element-wise operations on arrays of different shapes. However, for broadcasting to work, the shapes of the arrays must be compatible according to certain rules. If the shapes are not compatible, the operation will fail.\n",
        "\n",
        "When you try to broadcast a (3,) array with a (4,) array, the operation will fail because their shapes are not compatible.\n",
        "Explain why this operation might fail and how to fix it.\n",
        "=>It fails because:\n",
        "  1.If the arrays do not have the same number of dimensions, prepend ones to the shape of the smaller array.\n",
        "\n",
        "  2.The size of each dimension must either be the same or one of them must be 1.\n",
        "To fix this issue, you need to make the shapes of the arrays compatible. One way to do this is by reshaping one of the arrays to a shape that can be broadcast with the other array."
      ]
    },
    {
      "cell_type": "markdown",
      "metadata": {
        "id": "6MXJdELrci_C"
      },
      "source": []
    },
    {
      "cell_type": "code",
      "execution_count": null,
      "metadata": {
        "colab": {
          "base_uri": "https://localhost:8080/"
        },
        "id": "LzbIkgaUci_C",
        "outputId": "1345e7fc-081d-4c25-8ef8-531135a45b19"
      },
      "outputs": [
        {
          "output_type": "stream",
          "name": "stdout",
          "text": [
            "[[ 5  6  7]\n",
            " [ 6  7  8]\n",
            " [ 7  8  9]\n",
            " [ 8  9 10]]\n"
          ]
        }
      ],
      "source": [
        "# code here\n",
        "import numpy as np\n",
        "\n",
        "# Creating two NumPy arrays\n",
        "array1 = np.array([1, 2, 3])\n",
        "array2 = np.array([4, 5, 6, 7])\n",
        "\n",
        "# Reshaping the arrays to be compatible for broadcasting\n",
        "array1 = array1.reshape(1, 3)\n",
        "array2 = array2.reshape(4, 1)\n",
        "\n",
        "# Performing the element-wise addition\n",
        "result = array1 + array2\n",
        "\n",
        "print(result)\n"
      ]
    },
    {
      "cell_type": "markdown",
      "metadata": {
        "id": "MQdPieILci_C"
      },
      "source": [
        "Write a NumPy program to add a 1D array of shape (3,) to a 2D array of shape (2, 3).\n"
      ]
    },
    {
      "cell_type": "code",
      "execution_count": null,
      "metadata": {
        "colab": {
          "base_uri": "https://localhost:8080/"
        },
        "id": "vBr2R61sci_C",
        "outputId": "50129ccd-a36c-474b-d2a2-348c5bf229a8"
      },
      "outputs": [
        {
          "output_type": "stream",
          "name": "stdout",
          "text": [
            "[[ 5  7  9]\n",
            " [ 8 10 12]]\n"
          ]
        }
      ],
      "source": [
        "import numpy as np\n",
        "\n",
        "# Creating a 1D NumPy array of shape (3,)\n",
        "array1 = np.array([1, 2, 3])\n",
        "\n",
        "# Creating a 2D NumPy array of shape (2, 3)\n",
        "array2 = np.array([[4, 5, 6],\n",
        "                   [7, 8, 9]])\n",
        "\n",
        "# Adding the 1D array to the 2D array using broadcasting\n",
        "result = array2 + array1\n",
        "\n",
        "print(result)"
      ]
    },
    {
      "cell_type": "markdown",
      "metadata": {
        "id": "qeSjy0Ibci_C"
      },
      "source": [
        "Add a 1D array [10, 20, 30] to each row of a 2D array [[1, 2, 3], [4, 5, 6], [7, 8, 9]]."
      ]
    },
    {
      "cell_type": "code",
      "source": [
        "import numpy as np\n",
        "\n",
        "# Creating the 1D array and the 2D array\n",
        "array1 = np.array([10, 20, 30])\n",
        "array2 = np.array([[1, 2, 3],\n",
        "                   [4, 5, 6],\n",
        "                   [7, 8, 9]])\n",
        "\n",
        "# Adding the 1D array to each row of the 2D array using broadcasting\n",
        "result = array2 + array1\n",
        "\n",
        "print(result)\n"
      ],
      "metadata": {
        "colab": {
          "base_uri": "https://localhost:8080/"
        },
        "id": "b902zz57nFg9",
        "outputId": "23705a7d-6ecb-413f-c395-ecd043874033"
      },
      "execution_count": null,
      "outputs": [
        {
          "output_type": "stream",
          "name": "stdout",
          "text": [
            "[[11 22 33]\n",
            " [14 25 36]\n",
            " [17 28 39]]\n"
          ]
        }
      ]
    },
    {
      "cell_type": "markdown",
      "metadata": {
        "id": "htJGfV_Eci_C"
      },
      "source": []
    },
    {
      "cell_type": "markdown",
      "metadata": {
        "id": "Hm57VYmwci_C"
      },
      "source": [
        "Attempt to add a 1D array [10, 20] to a 2D array [[1, 2, 3], [4, 5, 6]]. Explain the error."
      ]
    },
    {
      "cell_type": "code",
      "source": [
        "import numpy as np\n",
        "\n",
        "# Creating the 1D array and the 2D array\n",
        "array1 = np.array([10, 20])\n",
        "array2 = np.array([[1, 2, 3],\n",
        "                   [4, 5, 6]])\n",
        "\n",
        "# Attempting to add the 1D array to the 2D array\n",
        "try:\n",
        "    result = array2 + array1\n",
        "except ValueError as e:\n",
        "    print(e)"
      ],
      "metadata": {
        "colab": {
          "base_uri": "https://localhost:8080/"
        },
        "id": "1P4s4u7HnPd_",
        "outputId": "fdc76c13-292a-47d5-dd02-1920110bbac1"
      },
      "execution_count": null,
      "outputs": [
        {
          "output_type": "stream",
          "name": "stdout",
          "text": [
            "operands could not be broadcast together with shapes (2,3) (2,) \n"
          ]
        }
      ]
    },
    {
      "cell_type": "markdown",
      "metadata": {
        "id": "tWueZz_Kci_C"
      },
      "source": [
        "Explanation of the Error:\n",
        "The 1D array [10, 20] has shape (2,).\n",
        "\n",
        "The 2D array [[1, 2, 3], [4, 5, 6]] has shape (2, 3).\n",
        "\n",
        "According to the broadcasting rules:\n",
        "\n",
        "When the arrays are aligned for broadcasting, the shapes must be compatible. Specifically, the size of each dimension must either be the same or one of them must be 1.\n",
        "\n",
        "In this case:\n",
        "\n",
        "The 2D array has 3 columns, while the 1D array has only 2 elements. Since the shapes are not compatible, the operation fails."
      ]
    },
    {
      "cell_type": "markdown",
      "source": [],
      "metadata": {
        "id": "QkWuCY4RndL6"
      }
    },
    {
      "cell_type": "markdown",
      "metadata": {
        "id": "iBK8p2nJci_C"
      },
      "source": [
        "Multiply a 2D array [[1, 2], [3, 4]] with a 1D array [10, 20] using broadcasting."
      ]
    },
    {
      "cell_type": "code",
      "source": [
        "import numpy as np\n",
        "\n",
        "# Creating the 2D array and the 1D array\n",
        "array2d = np.array([[1, 2],\n",
        "                    [3, 4]])\n",
        "array1d = np.array([10, 20])\n",
        "\n",
        "# Multiplying the 2D array with the 1D array using broadcasting\n",
        "result = array2d * array1d\n",
        "\n",
        "print(result)\n"
      ],
      "metadata": {
        "colab": {
          "base_uri": "https://localhost:8080/"
        },
        "id": "RhIA6e_YneoX",
        "outputId": "198eec03-3e0b-4872-95f7-0d5f6343ee01"
      },
      "execution_count": null,
      "outputs": [
        {
          "output_type": "stream",
          "name": "stdout",
          "text": [
            "[[10 40]\n",
            " [30 80]]\n"
          ]
        }
      ]
    },
    {
      "cell_type": "markdown",
      "metadata": {
        "id": "tMo0_oy_ci_C"
      },
      "source": []
    },
    {
      "cell_type": "code",
      "source": [
        "#Broadcasting a scalar value:\n",
        "import numpy as np\n",
        "\n",
        "a = np.array([1.0, 2.0, 3.0])\n",
        "b = 2.0\n",
        "\n",
        "# Broadcasting the scalar b\n",
        "result = a * b\n",
        "\n",
        "print(result)\n"
      ],
      "metadata": {
        "colab": {
          "base_uri": "https://localhost:8080/"
        },
        "id": "zT4omzj-o0Yo",
        "outputId": "d98ff118-7736-4269-a5cf-883dbceff37f"
      },
      "execution_count": null,
      "outputs": [
        {
          "output_type": "stream",
          "name": "stdout",
          "text": [
            "[2. 4. 6.]\n"
          ]
        }
      ]
    },
    {
      "cell_type": "code",
      "source": [
        "#Adding a 1D array to a 2D array:\n",
        "import numpy as np\n",
        "\n",
        "a = np.array([[1.0, 2.0, 3.0],\n",
        "              [4.0, 5.0, 6.0]])\n",
        "b = np.array([10.0, 20.0, 30.0])\n",
        "\n",
        "# Broadcasting the 1D array b\n",
        "result = a + b\n",
        "\n",
        "print(result)"
      ],
      "metadata": {
        "colab": {
          "base_uri": "https://localhost:8080/"
        },
        "id": "f5ysQ9uTo69R",
        "outputId": "120b345d-0a2d-48bb-c1f3-56bb4c39caab"
      },
      "execution_count": null,
      "outputs": [
        {
          "output_type": "stream",
          "name": "stdout",
          "text": [
            "[[11. 22. 33.]\n",
            " [14. 25. 36.]]\n"
          ]
        }
      ]
    },
    {
      "cell_type": "code",
      "source": [
        "#Broadcasting two arrays of different shapes:\n",
        "import numpy as np\n",
        "\n",
        "a = np.array([[0.0, 0.0, 0.0],\n",
        "              [10.0, 10.0, 10.0],\n",
        "              [20.0, 20.0, 20.0],\n",
        "              [30.0, 30.0, 30.0]])\n",
        "b = np.array([1.0, 2.0, 3.0])\n",
        "\n",
        "# Broadcasting the arrays a and b\n",
        "result = a + b\n",
        "\n",
        "print(result)"
      ],
      "metadata": {
        "colab": {
          "base_uri": "https://localhost:8080/"
        },
        "id": "4OZkLz5TpCAi",
        "outputId": "a5c8883e-e447-49d2-e654-23b550582c25"
      },
      "execution_count": null,
      "outputs": [
        {
          "output_type": "stream",
          "name": "stdout",
          "text": [
            "[[ 1.  2.  3.]\n",
            " [11. 12. 13.]\n",
            " [21. 22. 23.]\n",
            " [31. 32. 33.]]\n"
          ]
        }
      ]
    },
    {
      "cell_type": "code",
      "source": [
        "#Broadcasting rules illustration:\n",
        "import numpy as np\n",
        "\n",
        "# Arrays of shapes (4,3) and (3,)\n",
        "a = np.arange(12).reshape(4, 3)\n",
        "b = np.arange(3)\n",
        "\n",
        "# Broadcasting the arrays a and b\n",
        "result = a + b\n",
        "\n",
        "print(result)"
      ],
      "metadata": {
        "colab": {
          "base_uri": "https://localhost:8080/"
        },
        "id": "Ugf08y_IpIxy",
        "outputId": "57e31708-83f5-4d47-fba6-6bc2c8cb54e8"
      },
      "execution_count": null,
      "outputs": [
        {
          "output_type": "stream",
          "name": "stdout",
          "text": [
            "[[ 0  2  4]\n",
            " [ 3  5  7]\n",
            " [ 6  8 10]\n",
            " [ 9 11 13]]\n"
          ]
        }
      ]
    },
    {
      "cell_type": "code",
      "source": [
        "#Using broadcasting to subtract mean from each column:\n",
        "import numpy as np\n",
        "\n",
        "# Creating a 2D array\n",
        "a = np.array([[1, 2, 3],\n",
        "              [4, 5, 6],\n",
        "              [7, 8, 9]])\n",
        "\n",
        "# Calculating the mean of each column\n",
        "col_mean = a.mean(axis=0)\n",
        "\n",
        "# Subtracting the mean from each column using broadcasting\n",
        "result = a - col_mean\n",
        "\n",
        "print(result)"
      ],
      "metadata": {
        "colab": {
          "base_uri": "https://localhost:8080/"
        },
        "id": "qPLk1V9apOA9",
        "outputId": "8841df07-6247-4769-b4f7-f7d823e59818"
      },
      "execution_count": null,
      "outputs": [
        {
          "output_type": "stream",
          "name": "stdout",
          "text": [
            "[[-3. -3. -3.]\n",
            " [ 0.  0.  0.]\n",
            " [ 3.  3.  3.]]\n"
          ]
        }
      ]
    }
  ],
  "metadata": {
    "kernelspec": {
      "display_name": "Python 3",
      "language": "python",
      "name": "python3"
    },
    "language_info": {
      "codemirror_mode": {
        "name": "ipython",
        "version": 3
      },
      "file_extension": ".py",
      "mimetype": "text/x-python",
      "name": "python",
      "nbconvert_exporter": "python",
      "pygments_lexer": "ipython3",
      "version": "3.8.3"
    },
    "colab": {
      "provenance": [],
      "toc_visible": true,
      "include_colab_link": true
    }
  },
  "nbformat": 4,
  "nbformat_minor": 0
}