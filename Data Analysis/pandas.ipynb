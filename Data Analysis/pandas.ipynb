{
  "nbformat": 4,
  "nbformat_minor": 0,
  "metadata": {
    "colab": {
      "provenance": [],
      "authorship_tag": "ABX9TyOzLmsGW4fYisPRgjuji63P",
      "include_colab_link": true
    },
    "kernelspec": {
      "name": "python3",
      "display_name": "Python 3"
    },
    "language_info": {
      "name": "python"
    }
  },
  "cells": [
    {
      "cell_type": "markdown",
      "metadata": {
        "id": "view-in-github",
        "colab_type": "text"
      },
      "source": [
        "<a href=\"https://colab.research.google.com/github/Esheshwari/python-programming/blob/main/Data%20Analysis/pandas.ipynb\" target=\"_parent\"><img src=\"https://colab.research.google.com/assets/colab-badge.svg\" alt=\"Open In Colab\"/></a>"
      ]
    },
    {
      "cell_type": "code",
      "execution_count": null,
      "metadata": {
        "colab": {
          "base_uri": "https://localhost:8080/"
        },
        "id": "afuuaO1FDahX",
        "outputId": "68e41d75-c123-401a-ad55-5327b44b20da"
      },
      "outputs": [
        {
          "output_type": "stream",
          "name": "stdout",
          "text": [
            "0    1.0\n",
            "1    3.0\n",
            "2    5.0\n",
            "3    NaN\n",
            "4    6.0\n",
            "dtype: float64\n",
            "<class 'int'>\n"
          ]
        }
      ],
      "source": [
        "import pandas as pd\n",
        "import numpy as np\n",
        "\n",
        "# Create a Series from a list\n",
        "data = [1, 3, 5, np.nan, 6]\n",
        "s = pd.Series(data)\n",
        "print(s)\n",
        "\n",
        "# Print the type of the first element\n",
        "print(type(data[0]))"
      ]
    },
    {
      "cell_type": "code",
      "source": [
        "# Create a DataFrame from a dictionary\n",
        "data = {'Name': ['Ram', 'Robert','Rahim'],\n",
        "'Age': [25, 30, 35],\n",
        "'City': ['Ayodya', 'Chennai', 'Delhi']}\n",
        "df = pd.DataFrame(data)\n",
        "print(df)\n",
        "print(data.values(), type(data.values()))\n",
        "print(df.index, type(df.index))"
      ],
      "metadata": {
        "colab": {
          "base_uri": "https://localhost:8080/"
        },
        "id": "xRik1EXxEdhq",
        "outputId": "dbfaf9c3-8c09-4760-f90a-9330b3f88553"
      },
      "execution_count": null,
      "outputs": [
        {
          "output_type": "stream",
          "name": "stdout",
          "text": [
            "     Name  Age     City\n",
            "0     Ram   25   Ayodya\n",
            "1  Robert   30  Chennai\n",
            "2   Rahim   35    Delhi\n",
            "dict_values([['Ram', 'Robert', 'Rahim'], [25, 30, 35], ['Ayodya', 'Chennai', 'Delhi']]) <class 'dict_values'>\n",
            "RangeIndex(start=0, stop=3, step=1) <class 'pandas.core.indexes.range.RangeIndex'>\n"
          ]
        }
      ]
    },
    {
      "cell_type": "code",
      "source": [
        "data_x = pd.Series([0, 1, 2, 3, 4, 5])\n",
        "data_y = pd.Series([0, 1, 4, 9, 16, 25])\n",
        "df = pd.DataFrame({'x_value': data_x, 'square(x)': data_y})\n",
        "print(df)\n",
        "data_z = pd.Series([0, 1, 8, 27, 64, 125]) # Corrected Series creation\n",
        "df = pd.DataFrame({\"x_value\": data_x, \"square(x)\": data_y, \"cube(x)\": data_z})\n",
        "print(df)\n",
        "print(df.values.shape, type(data.values()))"
      ],
      "metadata": {
        "colab": {
          "base_uri": "https://localhost:8080/"
        },
        "id": "HSuHUHSUE39-",
        "outputId": "67aa3bbc-1d50-41e3-b13e-f87749f1666d"
      },
      "execution_count": null,
      "outputs": [
        {
          "output_type": "stream",
          "name": "stdout",
          "text": [
            "   x_value  square(x)\n",
            "0        0          0\n",
            "1        1          1\n",
            "2        2          4\n",
            "3        3          9\n",
            "4        4         16\n",
            "5        5         25\n",
            "   x_value  square(x)  cube(x)\n",
            "0        0          0        0\n",
            "1        1          1        1\n",
            "2        2          4        8\n",
            "3        3          9       27\n",
            "4        4         16       64\n",
            "5        5         25      125\n",
            "(6, 3) <class 'dict_values'>\n"
          ]
        }
      ]
    },
    {
      "cell_type": "code",
      "source": [
        "# Create a DataFrame from a date_range()\n",
        "dates = pd.date_range(\"20130101\", periods=6)\n",
        "df_2 = pd.DataFrame(np.random.randn(6, 4), index=dates, columns=list(\"ABCD\"))\n",
        "print(dates)\n",
        "print(df)\n",
        "print(df_2.dtypes)"
      ],
      "metadata": {
        "colab": {
          "base_uri": "https://localhost:8080/"
        },
        "id": "C6WZsGyUE95q",
        "outputId": "736662e6-7e95-4bac-e92d-f0adae84d6e1"
      },
      "execution_count": null,
      "outputs": [
        {
          "output_type": "stream",
          "name": "stdout",
          "text": [
            "DatetimeIndex(['2013-01-01', '2013-01-02', '2013-01-03', '2013-01-04',\n",
            "               '2013-01-05', '2013-01-06'],\n",
            "              dtype='datetime64[ns]', freq='D')\n",
            "   x_value  square(x)  cube(x)\n",
            "0        0          0        0\n",
            "1        1          1        1\n",
            "2        2          4        8\n",
            "3        3          9       27\n",
            "4        4         16       64\n",
            "5        5         25      125\n",
            "A    float64\n",
            "B    float64\n",
            "C    float64\n",
            "D    float64\n",
            "dtype: object\n"
          ]
        }
      ]
    },
    {
      "cell_type": "code",
      "source": [
        "# Access a column\n",
        "import pandas as pd\n",
        "import numpy as np\n",
        "# Create a DataFrame from the 'data' dictionary\n",
        "df = pd.DataFrame(data) # This line was missing\n",
        "print(df[\"Name\"])\n",
        "# Accessing a row by index (not label)\n",
        "print(df.iloc[0])\n",
        "# Access a row by index\n",
        "print(df.iloc[1])\n",
        "# Access a specific cell\n",
        "print(df.at[0, \"Age\"])\n",
        "# Slicing\n",
        "print(df[1:3]) # Slicing rows\n"
      ],
      "metadata": {
        "colab": {
          "base_uri": "https://localhost:8080/"
        },
        "id": "Zi3vBw1UFFow",
        "outputId": "5e96d2fc-aad5-4074-f552-33466892b68d"
      },
      "execution_count": null,
      "outputs": [
        {
          "output_type": "stream",
          "name": "stdout",
          "text": [
            "0       Ram\n",
            "1    Robert\n",
            "2     Rahim\n",
            "Name: Name, dtype: object\n",
            "Name       Ram\n",
            "Age         25\n",
            "City    Ayodya\n",
            "Name: 0, dtype: object\n",
            "Name     Robert\n",
            "Age          30\n",
            "City    Chennai\n",
            "Name: 1, dtype: object\n",
            "25\n",
            "     Name  Age     City\n",
            "1  Robert   30  Chennai\n",
            "2   Rahim   35    Delhi\n"
          ]
        }
      ]
    },
    {
      "cell_type": "code",
      "source": [
        "population_dict = {'California': 38332521,\n",
        "'Texas': 26448193,\n",
        "'Florida': 19552860,\n",
        "'Illinois': 12882135}\n",
        "population = pd.Series(population_dict)\n",
        "print(population_dict,type(population_dict))\n",
        "print(population,type(population))\n",
        "{'California': 38332521, 'Texas': 26448193, 'Florida': 19552860, 'Illinois': 12882135}\n",
        "\n",
        "population['California']\n",
        "population['California':'Illinois']"
      ],
      "metadata": {
        "colab": {
          "base_uri": "https://localhost:8080/",
          "height": 319
        },
        "id": "5wOyajUdHNtq",
        "outputId": "82d52705-9b51-4875-cee1-bafaec8a91e6"
      },
      "execution_count": null,
      "outputs": [
        {
          "output_type": "stream",
          "name": "stdout",
          "text": [
            "{'California': 38332521, 'Texas': 26448193, 'Florida': 19552860, 'Illinois': 12882135} <class 'dict'>\n",
            "California    38332521\n",
            "Texas         26448193\n",
            "Florida       19552860\n",
            "Illinois      12882135\n",
            "dtype: int64 <class 'pandas.core.series.Series'>\n"
          ]
        },
        {
          "output_type": "execute_result",
          "data": {
            "text/plain": [
              "California    38332521\n",
              "Texas         26448193\n",
              "Florida       19552860\n",
              "Illinois      12882135\n",
              "dtype: int64"
            ],
            "text/html": [
              "<div>\n",
              "<style scoped>\n",
              "    .dataframe tbody tr th:only-of-type {\n",
              "        vertical-align: middle;\n",
              "    }\n",
              "\n",
              "    .dataframe tbody tr th {\n",
              "        vertical-align: top;\n",
              "    }\n",
              "\n",
              "    .dataframe thead th {\n",
              "        text-align: right;\n",
              "    }\n",
              "</style>\n",
              "<table border=\"1\" class=\"dataframe\">\n",
              "  <thead>\n",
              "    <tr style=\"text-align: right;\">\n",
              "      <th></th>\n",
              "      <th>0</th>\n",
              "    </tr>\n",
              "  </thead>\n",
              "  <tbody>\n",
              "    <tr>\n",
              "      <th>California</th>\n",
              "      <td>38332521</td>\n",
              "    </tr>\n",
              "    <tr>\n",
              "      <th>Texas</th>\n",
              "      <td>26448193</td>\n",
              "    </tr>\n",
              "    <tr>\n",
              "      <th>Florida</th>\n",
              "      <td>19552860</td>\n",
              "    </tr>\n",
              "    <tr>\n",
              "      <th>Illinois</th>\n",
              "      <td>12882135</td>\n",
              "    </tr>\n",
              "  </tbody>\n",
              "</table>\n",
              "</div><br><label><b>dtype:</b> int64</label>"
            ]
          },
          "metadata": {},
          "execution_count": 11
        }
      ]
    },
    {
      "cell_type": "code",
      "source": [
        "import numpy as np\n",
        "A = np.random.randn(5, 3)\n",
        "print(A, type(A))\n",
        "dfA = pd.DataFrame(A)\n",
        "print(dfA,type(dfA))"
      ],
      "metadata": {
        "colab": {
          "base_uri": "https://localhost:8080/"
        },
        "id": "QQ10ro4JHcTs",
        "outputId": "5161aba7-8466-499f-8ef2-dc24a1c40fc1"
      },
      "execution_count": null,
      "outputs": [
        {
          "output_type": "stream",
          "name": "stdout",
          "text": [
            "[[-0.39792725 -1.52098045  0.10121497]\n",
            " [-0.03251147 -0.66532919 -1.04968336]\n",
            " [-0.83173947  1.95566449  0.23827622]\n",
            " [ 1.18764331  0.57109747 -0.07810822]\n",
            " [ 0.60095332 -0.1007963   1.03963145]] <class 'numpy.ndarray'>\n",
            "          0         1         2\n",
            "0 -0.397927 -1.520980  0.101215\n",
            "1 -0.032511 -0.665329 -1.049683\n",
            "2 -0.831739  1.955664  0.238276\n",
            "3  1.187643  0.571097 -0.078108\n",
            "4  0.600953 -0.100796  1.039631 <class 'pandas.core.frame.DataFrame'>\n"
          ]
        }
      ]
    },
    {
      "cell_type": "code",
      "source": [
        "# Filter rows where Age > 25\n",
        "filtered_df = df[df[\"Age\"] > 25]\n",
        "print(filtered_df)\n",
        "filtered_df = df[df[\"Age\"].isin([35])]\n",
        "print(filtered_df)"
      ],
      "metadata": {
        "colab": {
          "base_uri": "https://localhost:8080/"
        },
        "id": "yTnBnoDDHhHz",
        "outputId": "4287dac2-9b27-4271-d48a-c5aac5ecd362"
      },
      "execution_count": null,
      "outputs": [
        {
          "output_type": "stream",
          "name": "stdout",
          "text": [
            "     Name  Age     City\n",
            "1  Robert   30  Chennai\n",
            "2   Rahim   35    Delhi\n",
            "    Name  Age   City\n",
            "2  Rahim   35  Delhi\n"
          ]
        }
      ]
    },
    {
      "cell_type": "code",
      "source": [
        "data = {'A': [1, 2, np.nan, 4],\n",
        "'B': [5, np.nan, 7, 8],\n",
        "'C': [9, 10, 11, np.nan]}\n",
        "df = pd.DataFrame(data)\n",
        "print(df)\n",
        "# Drop rows with missing values\n",
        "df.dropna(inplace=True) # Modify df directly\n",
        "print(df) # Print the modified DataFrame"
      ],
      "metadata": {
        "colab": {
          "base_uri": "https://localhost:8080/"
        },
        "id": "RuQ6hABwHnYW",
        "outputId": "6d9952c8-a325-4f6b-ca53-cfec8956aa4b"
      },
      "execution_count": null,
      "outputs": [
        {
          "output_type": "stream",
          "name": "stdout",
          "text": [
            "     A    B     C\n",
            "0  1.0  5.0   9.0\n",
            "1  2.0  NaN  10.0\n",
            "2  NaN  7.0  11.0\n",
            "3  4.0  8.0   NaN\n",
            "     A    B    C\n",
            "0  1.0  5.0  9.0\n"
          ]
        }
      ]
    },
    {
      "cell_type": "code",
      "source": [
        "# Fill missing values with 0\n",
        "df.fillna(0, inplace=True)\n",
        "print(df)\n",
        "# Fill missing values with the mean of the column\n",
        "df[\"C\"].fillna(df[\"C\"].mean(), inplace=True)\n",
        "print(df)\n",
        "#if you are getting errors, then copy df to another dataframe"
      ],
      "metadata": {
        "colab": {
          "base_uri": "https://localhost:8080/"
        },
        "id": "MfwPhSFcHsIm",
        "outputId": "ff20f397-a8f0-4146-fc21-c078b7608ef0"
      },
      "execution_count": null,
      "outputs": [
        {
          "output_type": "stream",
          "name": "stdout",
          "text": [
            "     A    B    C\n",
            "0  1.0  5.0  9.0\n",
            "     A    B    C\n",
            "0  1.0  5.0  9.0\n"
          ]
        },
        {
          "output_type": "stream",
          "name": "stderr",
          "text": [
            "<ipython-input-15-623c8755d140>:5: FutureWarning: A value is trying to be set on a copy of a DataFrame or Series through chained assignment using an inplace method.\n",
            "The behavior will change in pandas 3.0. This inplace method will never work because the intermediate object on which we are setting values always behaves as a copy.\n",
            "\n",
            "For example, when doing 'df[col].method(value, inplace=True)', try using 'df.method({col: value}, inplace=True)' or df[col] = df[col].method(value) instead, to perform the operation inplace on the original object.\n",
            "\n",
            "\n",
            "  df[\"C\"].fillna(df[\"C\"].mean(), inplace=True)\n"
          ]
        }
      ]
    },
    {
      "cell_type": "code",
      "source": [
        "data = [2, 4, 6, 8]\n",
        "mean = sum(data) / len(data)\n",
        "print(mean)"
      ],
      "metadata": {
        "colab": {
          "base_uri": "https://localhost:8080/"
        },
        "id": "lwsc_6fSHxWi",
        "outputId": "63a2b90f-4c6a-45f7-eeba-5a29355a1efc"
      },
      "execution_count": null,
      "outputs": [
        {
          "output_type": "stream",
          "name": "stdout",
          "text": [
            "5.0\n"
          ]
        }
      ]
    },
    {
      "cell_type": "code",
      "source": [
        "data = [2, 4, 6, 8, 10]\n",
        "n = len(data)\n",
        "median = sorted(data)[n // 2] if n % 2 != 0 else (sorted(data)[n // 2 - 1] + sorted(data)[n // 2]) / 2\n",
        "print(median)"
      ],
      "metadata": {
        "colab": {
          "base_uri": "https://localhost:8080/"
        },
        "id": "67WGg0cxH0u-",
        "outputId": "fb7bb24c-b1cf-441a-d79e-06cdf23d1fb8"
      },
      "execution_count": null,
      "outputs": [
        {
          "output_type": "stream",
          "name": "stdout",
          "text": [
            "6\n"
          ]
        }
      ]
    },
    {
      "cell_type": "code",
      "source": [
        "import numpy as np\n",
        "import pandas as pd\n",
        "data = [10, 12, 13, 11, 12, 14, 10] # Example dataset without outliers\n",
        "data_with_outlier = [10, 12, 13, 11, 12, 14, 10, 100] # Add an extreme outlier\n",
        "# Calculate mean and median for both cases\n",
        "mean_without_outlier = np.mean(data)\n",
        "median_without_outlier = np.median(data)\n",
        "mean_with_outlier = np.mean(data_with_outlier)\n",
        "median_with_outlier = np.median(data_with_outlier)\n",
        "# Print results\n",
        "print(f\"Mean without outlier: {mean_without_outlier:.2f}\")\n",
        "print(f\"Median without outlier: {median_without_outlier:.2f}\")\n",
        "print(f\"Mean with outlier: {mean_with_outlier:.2f}\")\n",
        "print(f\"Median with outlier: {median_with_outlier:.2f}\")"
      ],
      "metadata": {
        "colab": {
          "base_uri": "https://localhost:8080/"
        },
        "id": "rHRzDDI6IA0C",
        "outputId": "2ea4b8af-0047-48ba-df78-634dbb5e26e3"
      },
      "execution_count": null,
      "outputs": [
        {
          "output_type": "stream",
          "name": "stdout",
          "text": [
            "Mean without outlier: 11.71\n",
            "Median without outlier: 12.00\n",
            "Mean with outlier: 22.75\n",
            "Median with outlier: 12.00\n"
          ]
        }
      ]
    },
    {
      "cell_type": "code",
      "source": [
        "from statistics import mode\n",
        "data = [2, 4, 4, 6, 8]\n",
        "mode_val = mode(data)\n",
        "print(mode_val) # Output: 4"
      ],
      "metadata": {
        "colab": {
          "base_uri": "https://localhost:8080/"
        },
        "id": "gv4KFZ2qIJSo",
        "outputId": "a8526bb1-a097-4c0b-dd0d-6aa37ee0fe30"
      },
      "execution_count": null,
      "outputs": [
        {
          "output_type": "stream",
          "name": "stdout",
          "text": [
            "4\n"
          ]
        }
      ]
    },
    {
      "cell_type": "code",
      "source": [
        "#NumPy:\n",
        "import numpy as np\n",
        "from scipy import stats\n",
        "mean = np.mean(data)\n",
        "print(mean) # Output: 5.0\n",
        "data = [2, 4, 6, 8, 10]\n",
        "median = np.median(data)\n",
        "print(median) # Output: 6.0\n",
        "mode = stats.mode(data)[0]\n",
        "print(mode)"
      ],
      "metadata": {
        "id": "S34-rAG2IPvM"
      },
      "execution_count": null,
      "outputs": []
    },
    {
      "cell_type": "code",
      "source": [
        "#Pandas:\n",
        "import pandas as pd\n",
        "data = [2, 4, 6, 8, 10]\n",
        "df = pd.DataFrame(data, columns=['Values'])\n",
        "mean = df['Values'].mean()\n",
        "print(mean) # Output: 5.0\n",
        "median = df['Values'].median()\n",
        "print(median) # Output: 6.0\n",
        "mode = df['Values'].mode()[0]\n",
        "print(mode)"
      ],
      "metadata": {
        "id": "ATDaZ5_7ITu3"
      },
      "execution_count": null,
      "outputs": []
    },
    {
      "cell_type": "code",
      "source": [
        "data = [2, 4, 6, 8]\n",
        "range_val = max(data) - min(data)\n",
        "print(range_val)"
      ],
      "metadata": {
        "colab": {
          "base_uri": "https://localhost:8080/"
        },
        "id": "Sxy8OAFxIZNj",
        "outputId": "57ed0c3f-1fc1-46c8-8c9b-a0842603609a"
      },
      "execution_count": null,
      "outputs": [
        {
          "output_type": "stream",
          "name": "stdout",
          "text": [
            "6\n"
          ]
        }
      ]
    },
    {
      "cell_type": "code",
      "source": [
        "import numpy as np\n",
        "data = [2, 4, 6, 8]\n",
        "variance = np.var(data)\n",
        "print(variance)"
      ],
      "metadata": {
        "colab": {
          "base_uri": "https://localhost:8080/"
        },
        "id": "z3wg4c-7Icdq",
        "outputId": "f020f70a-33ae-4e88-9cf0-a7ba4428fc39"
      },
      "execution_count": null,
      "outputs": [
        {
          "output_type": "stream",
          "name": "stdout",
          "text": [
            "5.0\n"
          ]
        }
      ]
    },
    {
      "cell_type": "code",
      "source": [
        "import numpy as np\n",
        "data = [2, 4, 6, 8]\n",
        "std_dev = np.std(data)\n",
        "print(std_dev)"
      ],
      "metadata": {
        "colab": {
          "base_uri": "https://localhost:8080/"
        },
        "id": "lCHx_9ccIf1j",
        "outputId": "ed3f35ff-7e6a-46a3-fee1-09b0ea230fda"
      },
      "execution_count": null,
      "outputs": [
        {
          "output_type": "stream",
          "name": "stdout",
          "text": [
            "2.23606797749979\n"
          ]
        }
      ]
    },
    {
      "cell_type": "code",
      "source": [
        "#NumPy:\n",
        "import numpy as np\n",
        "data = [2, 4, 6, 8]\n",
        "# Peak-to-peak (range)\n",
        "range_val = np.ptp(data)\n",
        "print(range_val) # Output: 6\n",
        "variance = np.var(data)\n",
        "print(variance) # Output: 5.0\n",
        "std_dev = np.std(data)\n",
        "print(std_dev)"
      ],
      "metadata": {
        "id": "TtWYuNf1IjsO"
      },
      "execution_count": null,
      "outputs": []
    },
    {
      "cell_type": "code",
      "source": [
        "#Pandas:\n",
        "import pandas as pd\n",
        "data = [2, 4, 6, 8]\n",
        "df = pd.DataFrame(data, columns=['Values'])\n",
        "range_val = df['Values'].max() - df['Values'].min()\n",
        "print(range_val) # Output: 6\n",
        "variance = df['Values'].var()\n",
        "print(variance) # Output: 6.666666666666667\n",
        "std_dev = df['Values'].std()\n",
        "print(std_dev)"
      ],
      "metadata": {
        "colab": {
          "base_uri": "https://localhost:8080/"
        },
        "id": "a9Aj3zbPIlnr",
        "outputId": "25fea20e-a855-4a61-8e12-5e6db8f99efd"
      },
      "execution_count": null,
      "outputs": [
        {
          "output_type": "stream",
          "name": "stdout",
          "text": [
            "6\n",
            "6.666666666666667\n",
            "2.581988897471611\n"
          ]
        }
      ]
    },
    {
      "cell_type": "code",
      "source": [
        "from scipy.stats import skew\n",
        "data = [1, 2, 3, 4, 100]\n",
        "skewness = skew(data)\n",
        "print(skewness) # Output: Positive Skew"
      ],
      "metadata": {
        "colab": {
          "base_uri": "https://localhost:8080/"
        },
        "id": "9xKgRSBGI2CJ",
        "outputId": "51d66078-3971-47b2-8c35-181756f9650f"
      },
      "execution_count": null,
      "outputs": [
        {
          "output_type": "stream",
          "name": "stdout",
          "text": [
            "1.4975367033335198\n"
          ]
        }
      ]
    },
    {
      "cell_type": "code",
      "source": [
        "from scipy.stats import kurtosis\n",
        "data = [1, 2, 3, 4, 100]\n",
        "kurtosis_val = kurtosis(data)\n",
        "print(kurtosis_val) # Output: High Kurtosis"
      ],
      "metadata": {
        "colab": {
          "base_uri": "https://localhost:8080/"
        },
        "id": "Nil_WebWI6FE",
        "outputId": "566f2d18-6a56-4b53-b867-1d62f76c7d23"
      },
      "execution_count": null,
      "outputs": [
        {
          "output_type": "stream",
          "name": "stdout",
          "text": [
            "0.24671648930016365\n"
          ]
        }
      ]
    },
    {
      "cell_type": "code",
      "source": [
        "#NumPy:\n",
        "from scipy.stats import skew\n",
        "from scipy.stats import kurtosis\n",
        "data = [1, 2, 3, 4, 100]\n",
        "skewness = skew(data, bias=False)\n",
        "print(skewness) # Output: Positive Skew\n",
        "kurtosis_val = kurtosis(data, bias=False)\n",
        "print(kurtosis_val) # Output: High Kurtosis"
      ],
      "metadata": {
        "id": "kDrDfQ-uI-VK"
      },
      "execution_count": null,
      "outputs": []
    },
    {
      "cell_type": "code",
      "source": [
        "#Pandas:\n",
        "import pandas as pd\n",
        "data = [1, 2, 3, 4, 100]\n",
        "df = pd.DataFrame(data, columns=['Values'])\n",
        "skewness = df['Values'].skew()\n",
        "print(skewness) # Output: Positive Skew\n",
        "kurtosis_val = df['Values'].kurtosis()\n",
        "print(kurtosis_val) # Output: High Kurtosis"
      ],
      "metadata": {
        "colab": {
          "base_uri": "https://localhost:8080/"
        },
        "id": "-oiPiTsMJBnT",
        "outputId": "006f270d-b1c4-4851-e303-36a27a3b3127"
      },
      "execution_count": null,
      "outputs": [
        {
          "output_type": "stream",
          "name": "stdout",
          "text": [
            "2.2323959116364573\n",
            "4.986865957200655\n"
          ]
        }
      ]
    }
  ]
}