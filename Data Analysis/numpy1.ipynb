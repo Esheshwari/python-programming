{
  "nbformat": 4,
  "nbformat_minor": 0,
  "metadata": {
    "colab": {
      "provenance": [],
      "authorship_tag": "ABX9TyNQcKsLPpjUvW+uRuNlQ7gm",
      "include_colab_link": true
    },
    "kernelspec": {
      "name": "python3",
      "display_name": "Python 3"
    },
    "language_info": {
      "name": "python"
    }
  },
  "cells": [
    {
      "cell_type": "markdown",
      "metadata": {
        "id": "view-in-github",
        "colab_type": "text"
      },
      "source": [
        "<a href=\"https://colab.research.google.com/github/Esheshwari/python-programming/blob/main/numpy1.ipynb\" target=\"_parent\"><img src=\"https://colab.research.google.com/assets/colab-badge.svg\" alt=\"Open In Colab\"/></a>"
      ]
    },
    {
      "cell_type": "code",
      "execution_count": null,
      "metadata": {
        "colab": {
          "base_uri": "https://localhost:8080/"
        },
        "id": "6fSWHgSnGAk_",
        "outputId": "f6b9c3a6-893c-4e53-f371-8aefa5cef6d8"
      },
      "outputs": [
        {
          "output_type": "stream",
          "name": "stdout",
          "text": [
            "[1 2 3]\n",
            "[4 5 6]\n",
            "[5 7 9]\n",
            "[ 8  9 10]\n"
          ]
        }
      ],
      "source": [
        "import numpy as np\n",
        "arr1=np.array([1,2,3])\n",
        "print(arr1)\n",
        "arr2=np.array([4,5,6])\n",
        "print(arr2)\n",
        "print(arr1+arr2)\n",
        "print(arr2+4)"
      ]
    },
    {
      "cell_type": "code",
      "source": [
        "arr1=np.array([1,2,3])\n",
        "print(arr1)\n",
        "arr2=np.array([[4],[5],[6]])\n",
        "print(arr2)\n",
        "print(arr1+arr2)"
      ],
      "metadata": {
        "colab": {
          "base_uri": "https://localhost:8080/"
        },
        "id": "7p0fqaIAHeA-",
        "outputId": "5f67860c-053a-43d1-fb6a-e5c3283160cc"
      },
      "execution_count": null,
      "outputs": [
        {
          "output_type": "stream",
          "name": "stdout",
          "text": [
            "[1 2 3]\n",
            "[[4]\n",
            " [5]\n",
            " [6]]\n",
            "[[5 6 7]\n",
            " [6 7 8]\n",
            " [7 8 9]]\n"
          ]
        }
      ]
    },
    {
      "cell_type": "code",
      "source": [
        "arr1=np.array([1,2,3])\n",
        "arr2=np.array([1,2,3,4])\n",
        "#print(arr1+arr2)will give error as array shape/size is not same so numpy will give error"
      ],
      "metadata": {
        "id": "i1BiqKI3nY7Y"
      },
      "execution_count": null,
      "outputs": []
    },
    {
      "cell_type": "code",
      "source": [
        "arr1=np.array([[1,2,3], [4,5,6]])\n",
        "arr2=np.array([2,2,2])\n",
        "print(arr1+arr2)#this won't give error as size is same colomns are same rows wont matter"
      ],
      "metadata": {
        "colab": {
          "base_uri": "https://localhost:8080/"
        },
        "id": "D4WF7SEwnphG",
        "outputId": "13787675-114e-4401-8b90-609ea6861511"
      },
      "execution_count": null,
      "outputs": [
        {
          "output_type": "stream",
          "name": "stdout",
          "text": [
            "[[3 4 5]\n",
            " [6 7 8]]\n"
          ]
        }
      ]
    },
    {
      "cell_type": "code",
      "source": [
        "arr1=np.array([[1,2,3], [4,5,6]])\n",
        "arr2=np.array([2,8,4])#this won't give error as size is same colomns are same rows wont matter\n",
        "print(arr1+arr2)"
      ],
      "metadata": {
        "colab": {
          "base_uri": "https://localhost:8080/"
        },
        "id": "5VTjZO8CoNd9",
        "outputId": "fc3258cf-7c9e-4172-ad4a-bf5d27e6e9cb"
      },
      "execution_count": null,
      "outputs": [
        {
          "output_type": "stream",
          "name": "stdout",
          "text": [
            "[[ 3 10  7]\n",
            " [ 6 13 10]]\n"
          ]
        }
      ]
    },
    {
      "cell_type": "code",
      "source": [
        "arr1=np.array([[1,2], [4,5]])\n",
        "arr2=np.array([2,8,4])\n",
        "#print(arr1+arr2)this will again give error as size isn't same"
      ],
      "metadata": {
        "id": "klaFzFCroe18"
      },
      "execution_count": null,
      "outputs": []
    },
    {
      "cell_type": "code",
      "source": [
        "import numpy as np\n",
        "x=np.array([1,2,3,4,5])\n",
        "print(x)#this won't be executed with ,\n",
        "print(type(x))#class numpy.ndarray\n",
        "y=[1,2,3,4,5]\n",
        "print(y)#this will be executed with ,\n",
        "print(type(y))#class list"
      ],
      "metadata": {
        "id": "y1UBBDFyoiV0",
        "colab": {
          "base_uri": "https://localhost:8080/"
        },
        "outputId": "1e2aa7d4-706d-4e4c-9a54-08507a66bf6f"
      },
      "execution_count": null,
      "outputs": [
        {
          "output_type": "stream",
          "name": "stdout",
          "text": [
            "[1 2 3 4 5]\n",
            "<class 'numpy.ndarray'>\n",
            "[1, 2, 3, 4, 5]\n",
            "<class 'list'>\n"
          ]
        }
      ]
    },
    {
      "cell_type": "code",
      "source": [
        "#to convert list into array\n",
        "import numpy as np\n",
        "x=[1,2,3,4,5]\n",
        "y=np.array(x)\n",
        "z=np.array([1,2,3,4,5])#this will also convert it in array\n",
        "print(y)##this will give output without , so that shows its converted to array\n",
        "print(z)##this will give output without , so that shows its converted to array"
      ],
      "metadata": {
        "colab": {
          "base_uri": "https://localhost:8080/"
        },
        "id": "A39YB2wrKnEz",
        "outputId": "b144fd00-518f-4704-e212-50de312902b5"
      },
      "execution_count": null,
      "outputs": [
        {
          "output_type": "stream",
          "name": "stdout",
          "text": [
            "[1 2 3 4 5]\n",
            "[1 2 3 4 5]\n"
          ]
        }
      ]
    },
    {
      "cell_type": "code",
      "source": [
        "#Taking list as input then converting it to array\n",
        "l=[]\n",
        "for i in range (1,5):\n",
        "  int_1=input(\"Enter : \")\n",
        "  l.append(int_1)\n",
        "print(np.array(l))"
      ],
      "metadata": {
        "colab": {
          "base_uri": "https://localhost:8080/"
        },
        "id": "-zbbIj0mMXAU",
        "outputId": "461acd67-cbb2-4a17-8baa-bb3160faf6b2"
      },
      "execution_count": null,
      "outputs": [
        {
          "output_type": "stream",
          "name": "stdout",
          "text": [
            "Enter : 6\n",
            "Enter : 7\n",
            "Enter : 4\n",
            "Enter : 3\n",
            "['6' '7' '4' '3']\n"
          ]
        }
      ]
    },
    {
      "cell_type": "code",
      "source": [
        "#printing array dim shapes etc\n",
        "import numpy as np\n",
        "arr1=np.array([1, 2, 3, 4])\n",
        "print(arr1)\n",
        "print(arr1.ndim)\n",
        "print(arr1.shape)\n",
        "#2-D\n",
        "arr2=np.array([[1, 2, 3, 4], [5,6,7,8]])\n",
        "print(arr2)\n",
        "print(arr2.ndim)\n",
        "print(arr2.shape)\n",
        "#3-D\n",
        "arr3=np.array([[[1, 2, 3, 4],[8,9,6,7], [5,6,7,8]]])\n",
        "print(arr3)\n",
        "print(arr3.ndim)\n",
        "print(arr3.shape)\n",
        "#n dim(nd)\n",
        "arr4=np.array([1,2,3,4], ndmin=10)\n",
        "print(arr4)\n",
        "print(arr4.ndim)\n",
        "print(arr4.shape)"
      ],
      "metadata": {
        "colab": {
          "base_uri": "https://localhost:8080/"
        },
        "id": "gJzlZ8NGNFWO",
        "outputId": "914fe980-1aeb-463a-f42e-cbd9d7079141"
      },
      "execution_count": null,
      "outputs": [
        {
          "output_type": "stream",
          "name": "stdout",
          "text": [
            "[1 2 3 4]\n",
            "1\n",
            "(4,)\n",
            "[[1 2 3 4]\n",
            " [5 6 7 8]]\n",
            "2\n",
            "(2, 4)\n",
            "[[[1 2 3 4]\n",
            "  [8 9 6 7]\n",
            "  [5 6 7 8]]]\n",
            "3\n",
            "(1, 3, 4)\n",
            "[[[[[[[[[[1 2 3 4]]]]]]]]]]\n",
            "10\n",
            "(1, 1, 1, 1, 1, 1, 1, 1, 1, 4)\n"
          ]
        }
      ]
    },
    {
      "cell_type": "code",
      "source": [
        "#all element as zero\n",
        "#1-D\n",
        "arr_zero=np.zeros(4)\n",
        "print(arr_zero)\n",
        "print(arr_zero.ndim)\n",
        "print(arr_zero.shape)\n",
        "\n",
        "#2-D\n",
        "arr2_zero=np.zeros((4, 5))\n",
        "print(arr2_zero)\n",
        "print(arr2_zero.ndim)\n",
        "print(arr2_zero.shape)\n",
        "\n",
        "#3-D\n",
        "arr3_zero=np.zeros(((2, 3, 4)))\n",
        "print(arr3_zero)\n",
        "print(arr3_zero.ndim)\n",
        "print(arr3_zero.shape)"
      ],
      "metadata": {
        "colab": {
          "base_uri": "https://localhost:8080/"
        },
        "id": "mJtUomUoDGz-",
        "outputId": "e76740b5-0a0a-40c2-856b-bdd9dee0e0b7"
      },
      "execution_count": null,
      "outputs": [
        {
          "output_type": "stream",
          "name": "stdout",
          "text": [
            "[0. 0. 0. 0.]\n",
            "1\n",
            "(4,)\n",
            "[[0. 0. 0. 0. 0.]\n",
            " [0. 0. 0. 0. 0.]\n",
            " [0. 0. 0. 0. 0.]\n",
            " [0. 0. 0. 0. 0.]]\n",
            "2\n",
            "(4, 5)\n",
            "[[[0. 0. 0. 0.]\n",
            "  [0. 0. 0. 0.]\n",
            "  [0. 0. 0. 0.]]\n",
            "\n",
            " [[0. 0. 0. 0.]\n",
            "  [0. 0. 0. 0.]\n",
            "  [0. 0. 0. 0.]]]\n",
            "3\n",
            "(2, 3, 4)\n"
          ]
        }
      ]
    },
    {
      "cell_type": "code",
      "source": [
        "#all element as zero\n",
        "#1-D\n",
        "arr_one=np.ones(4)\n",
        "print(arr_one)\n",
        "print(arr_one.ndim)\n",
        "print(arr_one.shape)\n",
        "\n",
        "#2-D\n",
        "arr2_one=np.ones((4, 5))\n",
        "print(arr2_one)\n",
        "print(arr2_one.ndim)\n",
        "print(arr2_one.shape)\n",
        "\n",
        "#3-D\n",
        "arr3_one=np.ones(((2, 3, 4)))\n",
        "print(arr3_one)\n",
        "print(arr3_one.ndim)\n",
        "print(arr3_one.shape)"
      ],
      "metadata": {
        "colab": {
          "base_uri": "https://localhost:8080/"
        },
        "id": "riDO341YEJwE",
        "outputId": "d9db1e33-60ae-4d7b-ad54-d56006c29ab0"
      },
      "execution_count": null,
      "outputs": [
        {
          "output_type": "stream",
          "name": "stdout",
          "text": [
            "[1. 1. 1. 1.]\n",
            "1\n",
            "(4,)\n",
            "[[1. 1. 1. 1. 1.]\n",
            " [1. 1. 1. 1. 1.]\n",
            " [1. 1. 1. 1. 1.]\n",
            " [1. 1. 1. 1. 1.]]\n",
            "2\n",
            "(4, 5)\n",
            "[[[1. 1. 1. 1.]\n",
            "  [1. 1. 1. 1.]\n",
            "  [1. 1. 1. 1.]]\n",
            "\n",
            " [[1. 1. 1. 1.]\n",
            "  [1. 1. 1. 1.]\n",
            "  [1. 1. 1. 1.]]]\n",
            "3\n",
            "(2, 3, 4)\n"
          ]
        }
      ]
    },
    {
      "cell_type": "code",
      "source": [
        "#Empty array\n",
        "arr_empty=np.empty(4)#previous data will be printed in case of empty\n",
        "print(arr_empty)"
      ],
      "metadata": {
        "colab": {
          "base_uri": "https://localhost:8080/"
        },
        "id": "KdwsFjV1FMOP",
        "outputId": "dbeaff2e-76aa-41ef-d94b-d5473d7f2362"
      },
      "execution_count": null,
      "outputs": [
        {
          "output_type": "stream",
          "name": "stdout",
          "text": [
            "[0. 0. 0. 0.]\n"
          ]
        }
      ]
    },
    {
      "cell_type": "code",
      "source": [
        "#for printing range of array\n",
        "import numpy as np\n",
        "ar_rn=np.arange(1, 4)\n",
        "ar1_rn=np.arange(4)\n",
        "print(ar_rn)\n",
        "print(ar1_rn)"
      ],
      "metadata": {
        "colab": {
          "base_uri": "https://localhost:8080/"
        },
        "id": "XAM3uFdiQwJD",
        "outputId": "77bf0220-35b0-433f-d2bd-c35e78695744"
      },
      "execution_count": null,
      "outputs": [
        {
          "output_type": "stream",
          "name": "stdout",
          "text": [
            "[1 2 3]\n",
            "[0 1 2 3]\n"
          ]
        }
      ]
    },
    {
      "cell_type": "code",
      "source": [
        "#for identity matrix\n",
        "import numpy as np\n",
        "ar_dia=np.eye(3)#eye for identity mat\n",
        "print(ar_dia)"
      ],
      "metadata": {
        "colab": {
          "base_uri": "https://localhost:8080/"
        },
        "id": "ClUyyCaTSb6S",
        "outputId": "acc5bc0c-9955-45d2-e446-925134fd99b4"
      },
      "execution_count": null,
      "outputs": [
        {
          "output_type": "stream",
          "name": "stdout",
          "text": [
            "[[1. 0. 0.]\n",
            " [0. 1. 0.]\n",
            " [0. 0. 1.]]\n"
          ]
        }
      ]
    },
    {
      "cell_type": "code",
      "source": [
        "#for matrix\n",
        "import numpy as np\n",
        "ar1_dia=np.eye(3, 5)#5=cols\n",
        "print(ar1_dia)"
      ],
      "metadata": {
        "colab": {
          "base_uri": "https://localhost:8080/"
        },
        "id": "LoxsSHbOSsjm",
        "outputId": "5a1435a5-ef73-40ce-86dc-e56c592f333f"
      },
      "execution_count": null,
      "outputs": [
        {
          "output_type": "stream",
          "name": "stdout",
          "text": [
            "[[1. 0. 0. 0. 0.]\n",
            " [0. 1. 0. 0. 0.]\n",
            " [0. 0. 1. 0. 0.]]\n"
          ]
        }
      ]
    },
    {
      "cell_type": "code",
      "source": [
        "#linspace=for gapp(rem spelling)\n",
        "import numpy as np\n",
        "arr_lin=np.linspace(0, 20, 5)#0=start val, 20=end val,\n",
        "print(arr_lin)\n",
        "arr1_lin=np.linspace(0, 20, 4)\n",
        "print(arr1_lin)"
      ],
      "metadata": {
        "colab": {
          "base_uri": "https://localhost:8080/"
        },
        "id": "kAK3drIoTB7i",
        "outputId": "fb87b2ea-a8ca-4520-e890-61a207717720"
      },
      "execution_count": null,
      "outputs": [
        {
          "output_type": "stream",
          "name": "stdout",
          "text": [
            "[ 0.  5. 10. 15. 20.]\n",
            "[ 0.          6.66666667 13.33333333 20.        ]\n"
          ]
        }
      ]
    },
    {
      "cell_type": "code",
      "source": [
        "#Random\n",
        "#rand()\n",
        "#1-D\n",
        "import numpy as np\n",
        "arr_rn=np.random.rand(4)#generates random value btw 0 & 1\n",
        "print(arr_rn)\n",
        "#2-D\n",
        "import numpy as np\n",
        "arr_rn1=np.random.rand(4, 5)#generates random value btw 0 & 1\n",
        "print(arr_rn1)\n",
        "#3-D\n",
        "import numpy as np\n",
        "arr_rn2=np.random.rand(2, 3, 4)#generates random value btw 0 & 1\n",
        "print(arr_rn2)"
      ],
      "metadata": {
        "colab": {
          "base_uri": "https://localhost:8080/"
        },
        "id": "l1L7_xgPXvnw",
        "outputId": "441c86c5-c743-4b62-dfd7-920aacaa7b6d"
      },
      "execution_count": null,
      "outputs": [
        {
          "output_type": "stream",
          "name": "stdout",
          "text": [
            "[0.14899713 0.49722658 0.79806628 0.84700554]\n",
            "[[0.43625599 0.16062201 0.14813546 0.34620337 0.36101928]\n",
            " [0.03869375 0.15167744 0.87079851 0.37139672 0.86928111]\n",
            " [0.08401859 0.12684304 0.79625122 0.64622858 0.11005058]\n",
            " [0.61692298 0.80854465 0.75581082 0.83179793 0.31021461]]\n",
            "[[[0.34997772 0.73263801 0.12528068 0.05429456]\n",
            "  [0.56010032 0.35982447 0.3879816  0.28033521]\n",
            "  [0.62007928 0.13374162 0.01767383 0.8152618 ]]\n",
            "\n",
            " [[0.51701673 0.51447631 0.56745658 0.88996157]\n",
            "  [0.29492627 0.78303536 0.52453534 0.86172736]\n",
            "  [0.98200434 0.54104328 0.3515126  0.29704477]]]\n"
          ]
        }
      ]
    },
    {
      "cell_type": "code",
      "source": [
        "#randn()\n",
        "#1-D\n",
        "import numpy as np\n",
        "arr_rnn=np.random.randn(4)#generates random value close to 0 (can be + or -)\n",
        "print(arr_rn)\n",
        "#2-D\n",
        "import numpy as np\n",
        "arr_rnn1=np.random.randn(4, 5)#generates random value close to 0 (can be + or -)\n",
        "print(arr_rnn1)\n",
        "#3-D\n",
        "import numpy as np\n",
        "arr_rnn2=np.random.randn(2, 3, 4)#generates random value close to 0 (can be + or -)\n",
        "print(arr_rnn2)"
      ],
      "metadata": {
        "colab": {
          "base_uri": "https://localhost:8080/"
        },
        "id": "NsiKmL7qZOMK",
        "outputId": "9c3c356f-edea-4680-c708-9642726d188c"
      },
      "execution_count": null,
      "outputs": [
        {
          "output_type": "stream",
          "name": "stdout",
          "text": [
            "[-0.61964299 -0.77879324  0.2426038  -2.20531268]\n",
            "[[-0.4670259   1.56254631 -0.20845633  1.87709871  0.30963069]\n",
            " [ 0.98860404 -0.00260013  0.58087785  0.37446667 -0.69560984]\n",
            " [-0.40696655  0.23343939 -0.19939378 -0.15446848 -0.0494105 ]\n",
            " [ 0.89625474  0.1501557   0.47522742  2.07881317 -0.08214688]]\n",
            "[[[ 0.81449357 -1.07006301  1.07458447 -0.57254407]\n",
            "  [ 1.58991812 -0.33565463  0.84005917  0.59073074]\n",
            "  [ 1.16217417  0.22817043  0.89151247 -1.04126486]]\n",
            "\n",
            " [[-0.58319048 -1.3663501  -1.25827639 -0.57894438]\n",
            "  [-0.55366692  0.10804262 -0.1109761  -1.10268267]\n",
            "  [-0.99863041  0.17657228 -0.38326817  0.10915882]]]\n"
          ]
        }
      ]
    },
    {
      "cell_type": "code",
      "source": [
        "#ranf():function in NumPy is used to generate random float values between 0 (inclusive) and 1 (exclusive) that means 1 wont be included\n",
        "#1-D\n",
        "import numpy as np\n",
        "arr_rnf=np.random.ranf(4)#generates random float value\n",
        "print(arr_rnf)\n",
        "#2-D\n",
        "import numpy as np\n",
        "arr_rnf1=np.random.ranf((4, 5))#generates random float value\n",
        "print(arr_rnf1)\n",
        "#3-D\n",
        "import numpy as np\n",
        "arr_rnf2=np.random.ranf(((2, 3, 4)))#generates random float value\n",
        "print(arr_rnf2)"
      ],
      "metadata": {
        "colab": {
          "base_uri": "https://localhost:8080/"
        },
        "id": "Bl_KviOuZgLR",
        "outputId": "38c1b4cc-6aa0-48c1-b9eb-912de00a986b"
      },
      "execution_count": null,
      "outputs": [
        {
          "output_type": "stream",
          "name": "stdout",
          "text": [
            "[0.88653521 0.75616454 0.88713949 0.83051803]\n",
            "[[0.67064224 0.47331672 0.43461782 0.25044799 0.89708658]\n",
            " [0.92746832 0.59992193 0.45712222 0.12034909 0.2040389 ]\n",
            " [0.88262243 0.98748379 0.55352712 0.93591054 0.82665106]\n",
            " [0.5959885  0.28676014 0.97976535 0.99202494 0.96020336]]\n",
            "[[[0.72999462 0.66587454 0.77567661 0.62420649]\n",
            "  [0.4851849  0.34637398 0.01896775 0.56693588]\n",
            "  [0.95088601 0.37426652 0.70221487 0.97628826]]\n",
            "\n",
            " [[0.53355548 0.07055818 0.46267393 0.64942953]\n",
            "  [0.55247722 0.12956032 0.92751621 0.43043796]\n",
            "  [0.897729   0.94887851 0.84869423 0.65570524]]]\n"
          ]
        }
      ]
    },
    {
      "cell_type": "code",
      "source": [
        "#randint\n",
        "import numpy as np\n",
        "arr_raint=np.random.randint(4, 20, 5)\n",
        "print(arr_raint)"
      ],
      "metadata": {
        "colab": {
          "base_uri": "https://localhost:8080/"
        },
        "id": "gtcpBDbSbEZa",
        "outputId": "1f2e7aae-47e0-45ba-e5e4-65265a7acd38"
      },
      "execution_count": null,
      "outputs": [
        {
          "output_type": "stream",
          "name": "stdout",
          "text": [
            "[ 8  4 15 14 10]\n"
          ]
        }
      ]
    },
    {
      "cell_type": "code",
      "source": [
        "#to change datatype\n",
        "import numpy as np\n",
        "x3=np.array([1, 2, 3, 4])\n",
        "new_1=x3.astype(float)#astype func changes any datatype\n",
        "print(x3)\n",
        "print(new_1)"
      ],
      "metadata": {
        "colab": {
          "base_uri": "https://localhost:8080/"
        },
        "id": "E4dq06oOcHk_",
        "outputId": "bc4e2052-b2d1-4284-e21f-ea86c4e85b1b"
      },
      "execution_count": null,
      "outputs": [
        {
          "output_type": "stream",
          "name": "stdout",
          "text": [
            "[1 2 3 4]\n",
            "[1. 2. 3. 4.]\n"
          ]
        }
      ]
    },
    {
      "cell_type": "code",
      "source": [
        "#shaping\n",
        "import numpy as np\n",
        "var_1=np.array([[1,2,3,4],[5,6,7,8]], ndmin=5)\n",
        "print(var_1.ndim)\n",
        "print()#to change shape\n",
        "print(var_1)"
      ],
      "metadata": {
        "colab": {
          "base_uri": "https://localhost:8080/"
        },
        "id": "dSPCHZBuG0d0",
        "outputId": "cab7e802-aeff-486d-e810-d37b4787494b"
      },
      "execution_count": null,
      "outputs": [
        {
          "output_type": "stream",
          "name": "stdout",
          "text": [
            "5\n",
            "\n",
            "[[[[[1 2 3 4]\n",
            "    [5 6 7 8]]]]]\n"
          ]
        }
      ]
    },
    {
      "cell_type": "code",
      "source": [
        "#shaping\n",
        "var1=np.array([1,2,3,4], ndmin=4)\n",
        "print(var1)\n",
        "print()\n",
        "print(var1.ndim)\n",
        "print(var1.shape)"
      ],
      "metadata": {
        "colab": {
          "base_uri": "https://localhost:8080/"
        },
        "id": "HasqOGSCN9Po",
        "outputId": "b335de7b-a20f-403b-a965-930c0c169433"
      },
      "execution_count": null,
      "outputs": [
        {
          "output_type": "stream",
          "name": "stdout",
          "text": [
            "[[[[1 2 3 4]]]]\n",
            "\n",
            "4\n",
            "(1, 1, 1, 4)\n"
          ]
        }
      ]
    },
    {
      "cell_type": "code",
      "source": [
        "#reshaping\n",
        "var2=np.array([1,2,3,4])\n",
        "print(var2)\n",
        "print(var2.ndim)\n",
        "print(var2.shape)\n",
        "print()\n",
        "#x= var2.reshape(3, 2)this will give error as 3*2=6 elements are needed to reshape here\n",
        "x=var2.reshape(2,2)#this is possible as 2*2=4\n",
        "print(x)#2,2\n",
        "#converting to 2D\n",
        "var3=np.array([1,2,3,4,5,6])\n",
        "print(var3)\n",
        "print(var3.ndim)\n",
        "print(var3.shape)\n",
        "print()\n",
        "x1=var3.reshape(3,2)\n",
        "print(x1)\n",
        "\n",
        "#converting to 3D\n",
        "var4=np.array([1,2,3,4,5,6,7,8,9,10,11,12])\n",
        "print(var4)\n",
        "print(var4.ndim)\n",
        "print(var4.shape)\n",
        "print()\n",
        "x2=var4.reshape(2,2,3)\n",
        "print(x2)\n",
        "#to convert it back to 1-D\n",
        "one=x2.reshape(-1)\n",
        "print(one)\n",
        "print(one.ndim)"
      ],
      "metadata": {
        "colab": {
          "base_uri": "https://localhost:8080/"
        },
        "id": "GBxSmiCMVTJB",
        "outputId": "81a6e231-dd26-4d79-bff7-0778205cec32"
      },
      "execution_count": null,
      "outputs": [
        {
          "output_type": "stream",
          "name": "stdout",
          "text": [
            "[1 2 3 4]\n",
            "1\n",
            "(4,)\n",
            "\n",
            "[[1 2]\n",
            " [3 4]]\n",
            "[1 2 3 4 5 6]\n",
            "1\n",
            "(6,)\n",
            "\n",
            "[[1 2]\n",
            " [3 4]\n",
            " [5 6]]\n",
            "[ 1  2  3  4  5  6  7  8  9 10 11 12]\n",
            "1\n",
            "(12,)\n",
            "\n",
            "[[[ 1  2  3]\n",
            "  [ 4  5  6]]\n",
            "\n",
            " [[ 7  8  9]\n",
            "  [10 11 12]]]\n",
            "[ 1  2  3  4  5  6  7  8  9 10 11 12]\n",
            "1\n",
            "[ 1  2  3  4  5  6  7  8  9 10 11 12]\n",
            "1\n"
          ]
        }
      ]
    },
    {
      "cell_type": "code",
      "source": [
        "#Arithmetic operation\n",
        "#for add\n",
        "import numpy as np\n",
        "print(\"for add\")\n",
        "var_A=np.array([1,2,3,4,5])\n",
        "var_B=np.array([2,3,4,5,7])\n",
        "var_add=var_A+3\n",
        "var_add1=var_A+var_B\n",
        "print(var_add)\n",
        "print(var_add1)\n",
        "#for subtract\n",
        "import numpy as np\n",
        "print(\"for subtract\")\n",
        "var_C=np.array([1,2,3,4,5])\n",
        "var_D=np.array([2,3,4,5,7])\n",
        "var_sub=var_A-3\n",
        "var_sub1=var_A-var_B\n",
        "print(var_sub)\n",
        "print(var_sub1)\n",
        "#for multiply\n",
        "import numpy as np\n",
        "print(\"for mul\")\n",
        "var_E=np.array([1,2,3,4,5])\n",
        "var_F=np.array([2,3,4,5,7])\n",
        "var_mul=var_A*3\n",
        "var_mul1=var_A*var_B\n",
        "print(var_mul)\n",
        "print(var_mul1)\n",
        "#for div\n",
        "import numpy as np\n",
        "print(\"for div\")\n",
        "var_G=np.array([1,2,3,4,5])\n",
        "var_H=np.array([2,3,4,5,7])\n",
        "var_div=var_A/3\n",
        "var_div1=var_A/var_B\n",
        "print(var_div)\n",
        "print(var_div1)\n",
        "#for modulus\n",
        "import numpy as np\n",
        "print(\"for mod\")\n",
        "var_I=np.array([1,2,3,4,5])\n",
        "var_J=np.array([2,3,4,5,7])\n",
        "var_mod=var_I%3\n",
        "var_mod1=var_I%var_J\n",
        "print(var_mod)\n",
        "print(var_mod1)\n",
        "#for reciprocal\n",
        "import numpy as np\n",
        "print(\"for reciprocal\")\n",
        "var_r=np.array([1,2,3,4,5])#rec of 1=1/1, rec of 2=1/2, rec of 3=1/3.....\n",
        "var_rec=np.reciprocal(var_r)\n",
        "print(var_rec)"
      ],
      "metadata": {
        "colab": {
          "base_uri": "https://localhost:8080/"
        },
        "id": "bqWxwVE0W9Yl",
        "outputId": "1a39cec0-c058-404e-9bc0-70aa6caf82de"
      },
      "execution_count": null,
      "outputs": [
        {
          "output_type": "stream",
          "name": "stdout",
          "text": [
            "for add\n",
            "[4 5 6 7 8]\n",
            "[ 3  5  7  9 12]\n",
            "for subtract\n",
            "[-2 -1  0  1  2]\n",
            "[-1 -1 -1 -1 -2]\n",
            "for mul\n",
            "[ 3  6  9 12 15]\n",
            "[ 2  6 12 20 35]\n",
            "for div\n",
            "[0.33333333 0.66666667 1.         1.33333333 1.66666667]\n",
            "[0.5        0.66666667 0.75       0.8        0.71428571]\n",
            "for mod\n",
            "[1 2 0 1 2]\n",
            "[1 2 3 4 5]\n",
            "for reciprocal\n",
            "[1 0 0 0 0]\n"
          ]
        }
      ]
    },
    {
      "cell_type": "code",
      "source": [
        "#other arithmetic func\n",
        "#min and max\n",
        "import numpy as np\n",
        "var_m=np.array([1,2,3,4,5])\n",
        "print(\"min: \",np.min(var_m))\n",
        "print(\"max: \",np.max(var_m))\n",
        "#argmin & argmax=prints position\n",
        "print(\"argmin: \",np.argmin(var_m))#prints index of min\n",
        "print(\"argmax: \",np.argmax(var_m))#prints index of max\n",
        "#specific row & col min and max using axis, axis0=col, axis1=row\n",
        "var_b=np.array([[1,2,3], [4,5,6]])\n",
        "print(np.min(var_b, axis=0))#this will check min in col, out of 1 and 4= 1 is min, 2&5=2 is min, 3&6=3 is min\n",
        "print(np.min(var_b, axis=1))#this will check min in row, In the first row [1, 2, 3], the minimum value is 1. In the second row [4, 5, 6], the minimum value is 4.\n",
        "print(np.max(var_b, axis=0))\n",
        "print(np.max(var_b, axis=1))\n",
        "#square root\n",
        "var_sq=np.array([9, 16, 25, 36, 100])\n",
        "print(\"square root: \", np.sqrt(var_sq))\n",
        "var_cs=np.array([3,4,5])\n",
        "print(\"cos: \",np.cos(var_cs))\n",
        "print(\"sin: \",np.sin(var_cs))\n",
        "print(\"tan: \",np.tan(var_cs))\n",
        "print(\"cumsum: \", np.cumsum(var_cs))#3, (3+4)=7, (7+5)=12"
      ],
      "metadata": {
        "colab": {
          "base_uri": "https://localhost:8080/"
        },
        "id": "GU0w9sjQhkcl",
        "outputId": "c5abdc4a-081d-41bc-b8f5-b9cf2680f7ce"
      },
      "execution_count": null,
      "outputs": [
        {
          "output_type": "stream",
          "name": "stdout",
          "text": [
            "min:  1\n",
            "max:  5\n",
            "argmin:  0\n",
            "argmax:  4\n",
            "[1 2 3]\n",
            "[1 4]\n",
            "[4 5 6]\n",
            "[3 6]\n",
            "square root:  [ 3.  4.  5.  6. 10.]\n",
            "cos:  [-0.9899925  -0.65364362  0.28366219]\n",
            "sin:  [ 0.14112001 -0.7568025  -0.95892427]\n",
            "tan:  [-0.14254654  1.15782128 -3.38051501]\n",
            "cumsum:  [ 3  7 12]\n"
          ]
        }
      ]
    },
    {
      "cell_type": "code",
      "source": [
        "#Broadcasting\n",
        "import numpy as np\n",
        "var_B1=np.array([1,2,3])\n",
        "print(var_B1)\n",
        "print(var_B1.shape)\n",
        "var_B2=np.array([[4],[2],[3]])\n",
        "print(var_B2)\n",
        "print(var_B2.shape)\n",
        "print(var_B1+ var_B2)"
      ],
      "metadata": {
        "colab": {
          "base_uri": "https://localhost:8080/"
        },
        "id": "_4am6HHklqxg",
        "outputId": "0c9bdd1c-08b4-427c-a4d5-51bed5398731"
      },
      "execution_count": null,
      "outputs": [
        {
          "output_type": "stream",
          "name": "stdout",
          "text": [
            "[1 2 3]\n",
            "(3,)\n",
            "[[4]\n",
            " [2]\n",
            " [3]]\n",
            "(3, 1)\n",
            "[[5 6 7]\n",
            " [3 4 5]\n",
            " [4 5 6]]\n"
          ]
        }
      ]
    },
    {
      "cell_type": "code",
      "source": [
        "#Broadcasting\n",
        "import numpy as np\n",
        "var_B3=np.array([[1],[2]])\n",
        "print(var_B3)\n",
        "print(var_B3.shape)\n",
        "var_B4=np.array([[[1,2,3],[2,4,5]]])#no. of cols should be same to no. of rows\n",
        "print(var_B4)\n",
        "print(var_B4.shape)\n",
        "print(var_B3+ var_B4)"
      ],
      "metadata": {
        "colab": {
          "base_uri": "https://localhost:8080/"
        },
        "id": "yvLhp7J_bxdu",
        "outputId": "11a83c30-5ba6-4c92-c055-6d5e6f586928"
      },
      "execution_count": null,
      "outputs": [
        {
          "output_type": "stream",
          "name": "stdout",
          "text": [
            "[[1]\n",
            " [2]]\n",
            "(2, 1)\n",
            "[[[1 2 3]\n",
            "  [2 4 5]]]\n",
            "(1, 2, 3)\n",
            "[[[2 3 4]\n",
            "  [4 6 7]]]\n"
          ]
        }
      ]
    },
    {
      "cell_type": "code",
      "source": [
        "#Indexing\n",
        "import numpy as np\n",
        "var_idx=np.array([1,2,3,4])\n",
        "print(var_idx[3])\n",
        "print(var_idx[-1])\n",
        "\n",
        "var_idx2=np.array([[2,3,4], [5,6,7]])\n",
        "print()\n",
        "print(var_idx2)\n",
        "print(var_idx2.ndim)\n",
        "print(var_idx2[0,2])#0th row 2nd element\n",
        "\n",
        "var_idx3=np.array([[[2,3,4], [5,6,7]]])\n",
        "print()\n",
        "print(var_idx3)\n",
        "print(var_idx3.ndim)\n",
        "print(var_idx3[0,1,2])#oth axes 1st row 2nd element"
      ],
      "metadata": {
        "colab": {
          "base_uri": "https://localhost:8080/"
        },
        "id": "Fl4Bx-L1rvp4",
        "outputId": "9280ca77-a59b-41d5-9251-69385b1dbf8e"
      },
      "execution_count": null,
      "outputs": [
        {
          "output_type": "stream",
          "name": "stdout",
          "text": [
            "4\n",
            "4\n",
            "\n",
            "[[2 3 4]\n",
            " [5 6 7]]\n",
            "2\n",
            "4\n",
            "\n",
            "[[[2 3 4]\n",
            "  [5 6 7]]]\n",
            "3\n",
            "7\n"
          ]
        }
      ]
    },
    {
      "cell_type": "code",
      "source": [
        "#slicing\n",
        "#for 1-D\n",
        "import numpy as np\n",
        "var_sl=np.array([1,2,3,4,5,6,7])\n",
        "print(var_sl[1:-3])#start, stop, step\n",
        "print(var_sl[1:4])\n",
        "print(var_sl[1:])\n",
        "print(var_sl[:4])\n",
        "print(var_sl[1:6:2])\n",
        "print(var_sl[::1])\n",
        "#for 2-D\n",
        "var_s2=np.array([[1,2,3,4,5,6,7],[8,9,5,4,6,5,7]])\n",
        "print(var_s2.ndim)\n",
        "print(var_s2[1, 2:5])#row, start:stop:step\n",
        "\n",
        "#for 3-D\n",
        "var_s3=np.array([[[1,2,3,4,5,6,7],[8,9,5,4,6,5,7],[2,3,4,5,6,7,8]]])\n",
        "print(var_s3.ndim)\n",
        "print(var_s3[0, 2, 1:6:1])#axes, row, start:stop:step"
      ],
      "metadata": {
        "colab": {
          "base_uri": "https://localhost:8080/"
        },
        "id": "VWuw0-dCtPi4",
        "outputId": "53294650-4685-4280-bc9b-5fd1df1da3e7"
      },
      "execution_count": null,
      "outputs": [
        {
          "output_type": "stream",
          "name": "stdout",
          "text": [
            "[2 3 4]\n",
            "[2 3 4]\n",
            "[2 3 4 5 6 7]\n",
            "[1 2 3 4]\n",
            "[2 4 6]\n",
            "[1 2 3 4 5 6 7]\n",
            "2\n",
            "[5 4 6]\n",
            "3\n",
            "[3 4 5 6 7]\n"
          ]
        }
      ]
    },
    {
      "cell_type": "code",
      "source": [
        "#iteration\n",
        "#for 1-D\n",
        "import numpy as np\n",
        "var_it=([1,2,3,4,5,6,7,8,9])\n",
        "for i in var_it:\n",
        "  print(i)\n",
        "#for 2-D\n",
        "var_it1=([[1,2,3,4],[5,6,7,8,9]])\n",
        "for i in var_it1:\n",
        "  print(i)\n",
        "\n",
        "for j in var_it1:#to print elements without row\n",
        "  for k in j:\n",
        "    print(k)\n",
        "\n",
        "#for 3-D\n",
        "var_it2=np.array([[1,2,3,4,5],[5,6,7,8,9], [4,5,6,7,8]])\n",
        "for i in var_it2:\n",
        "  print(i)\n",
        "\n",
        "for i in var_it2:#to print elements without row\n",
        "  for j in i:\n",
        "      print(j)\n",
        "#instead of above matter use nditer:\n",
        "print(\"with nditer:\")\n",
        "for i in np.nditer(var_it2, flags=['buffered'], op_dtypes=[\"S\"]):#S is capital, to change data type use these fun\n",
        "  print(i)\n",
        "# for seeing idx use ndnumerate:\n",
        "print(\"For indexing\")\n",
        "var_it2=np.array([[1,2,3,4,5],[5,6,7,8,9], [4,5,6,7,8]])\n",
        "for i,d in np.ndenumerate(var_it2):\n",
        "  print(i,d)"
      ],
      "metadata": {
        "colab": {
          "base_uri": "https://localhost:8080/"
        },
        "id": "CKKVDGDlZ0k8",
        "outputId": "4366978f-cfe4-4ad7-c7aa-99d72b7d27aa"
      },
      "execution_count": null,
      "outputs": [
        {
          "output_type": "stream",
          "name": "stdout",
          "text": [
            "1\n",
            "2\n",
            "3\n",
            "4\n",
            "5\n",
            "6\n",
            "7\n",
            "8\n",
            "9\n",
            "[1, 2, 3, 4]\n",
            "[5, 6, 7, 8, 9]\n",
            "1\n",
            "2\n",
            "3\n",
            "4\n",
            "5\n",
            "6\n",
            "7\n",
            "8\n",
            "9\n",
            "[1 2 3 4 5]\n",
            "[5 6 7 8 9]\n",
            "[4 5 6 7 8]\n",
            "1\n",
            "2\n",
            "3\n",
            "4\n",
            "5\n",
            "5\n",
            "6\n",
            "7\n",
            "8\n",
            "9\n",
            "4\n",
            "5\n",
            "6\n",
            "7\n",
            "8\n",
            "with nditer:\n",
            "b'1'\n",
            "b'2'\n",
            "b'3'\n",
            "b'4'\n",
            "b'5'\n",
            "b'5'\n",
            "b'6'\n",
            "b'7'\n",
            "b'8'\n",
            "b'9'\n",
            "b'4'\n",
            "b'5'\n",
            "b'6'\n",
            "b'7'\n",
            "b'8'\n",
            "For indexing\n",
            "(0, 0) 1\n",
            "(0, 1) 2\n",
            "(0, 2) 3\n",
            "(0, 3) 4\n",
            "(0, 4) 5\n",
            "(1, 0) 5\n",
            "(1, 1) 6\n",
            "(1, 2) 7\n",
            "(1, 3) 8\n",
            "(1, 4) 9\n",
            "(2, 0) 4\n",
            "(2, 1) 5\n",
            "(2, 2) 6\n",
            "(2, 3) 7\n",
            "(2, 4) 8\n"
          ]
        }
      ]
    },
    {
      "cell_type": "code",
      "source": [
        "#Copy VS View\n",
        "import numpy as np\n",
        "var_c=np.array([1,2,3,4,5])\n",
        "var_cp=var_c.copy()\n",
        "print(\"var_c=\", var_c)\n",
        "print(\"Copy: \", var_cp)\n",
        "\n",
        "import numpy as np\n",
        "var_v=np.array([7,6,8,9,5])\n",
        "var_vi=var_v.view()\n",
        "print(\"var_v= \", var_v)\n",
        "print(\"view: \",var_vi)\n",
        "\n",
        "#changes affect view but not copy\n",
        "import numpy as np\n",
        "var_c=np.array([1,2,3,4,5])\n",
        "var_cp=var_c.copy()\n",
        "var_c[1]=40\n",
        "print(\"var_c=\", var_c)\n",
        "print(\"Copy: \", var_cp)#in this array there wont be any change or 40 wont be seen in this\n",
        "\n",
        "import numpy as np\n",
        "var_v=np.array([7,6,8,9,5])\n",
        "var_vi=var_v.view()\n",
        "var_v[1]=20\n",
        "print(\"var_v= \", var_v)\n",
        "print(\"view: \",var_vi)#20 will be seen in this"
      ],
      "metadata": {
        "colab": {
          "base_uri": "https://localhost:8080/"
        },
        "id": "5_ogVQzo3oQi",
        "outputId": "2b15a81a-9359-40d1-e918-e2eb032475bf"
      },
      "execution_count": 7,
      "outputs": [
        {
          "output_type": "stream",
          "name": "stdout",
          "text": [
            "var_c= [1 2 3 4 5]\n",
            "Copy:  [1 2 3 4 5]\n",
            "var_v=  [7 6 8 9 5]\n",
            "view:  [7 6 8 9 5]\n",
            "var_c= [ 1 40  3  4  5]\n",
            "Copy:  [1 2 3 4 5]\n",
            "var_v=  [ 7 20  8  9  5]\n",
            "view:  [ 7 20  8  9  5]\n"
          ]
        }
      ]
    },
    {
      "cell_type": "markdown",
      "source": [
        "\n",
        "The Difference Between Copy and View :\n",
        "\n",
        "The view does not own the data .\n",
        "A view is the view of the original array.\n",
        "\n",
        "any changes made to the view will\n",
        "affect the original array, and any\n",
        "changes made to the original\n",
        "will affect the view.\n",
        "\n",
        "The copy owns the data.\n",
        "\n",
        "The copy of an array is a new\n",
        "array.\n",
        "\n",
        "The changes made in the copy\n",
        "data does not reflect in the\n",
        "original array.\n",
        "\n",
        "copy stores array in new address whereas view doesn't\n",
        "  \n",
        "\n",
        "\n",
        "\n",
        "\n"
      ],
      "metadata": {
        "id": "FVDgoG8Q6UjG"
      }
    },
    {
      "cell_type": "code",
      "source": [
        "#join and split\n",
        "import numpy as np\n",
        "j=np.array([1,2,3,4,5])\n",
        "i=np.array([6,7,8,9])\n",
        "arr=np.concatenate((j,i))\n",
        "print(arr)\n",
        "import numpy as np\n",
        "j_1=np.array([[1,2],[3,4]])\n",
        "i1=np.array([[6,7],[8,9]])\n",
        "arr1=np.concatenate((j_1,i1))\n",
        "arr1=np.concatenate((j_1,i1), axis=1)\n",
        "print(arr1)\n",
        "import numpy as np\n",
        "j_2=np.array([[1,2],[3,4]])\n",
        "i2=np.array([[6,7],[8,9]])\n",
        "arr2=np.stack((j_2,i2), axis=1)\n",
        "print(arr2)\n",
        "import numpy as np\n",
        "j_3=np.array([[1,2],[3,4]])\n",
        "i3=np.array([[6,7],[8,9]])\n",
        "arr3=np.hstack((j_3,i3))#horizontal:works along row\n",
        "arr4=np.vstack((j_3,i3))#works along coloumn\n",
        "arr5=np.dstack((j_3,i3))#works along height\n",
        "print(arr3)\n",
        "print(arr4)\n",
        "print(arr5)"
      ],
      "metadata": {
        "colab": {
          "base_uri": "https://localhost:8080/"
        },
        "id": "ArGo74By3oLg",
        "outputId": "526d1e4a-8584-45cc-b3aa-fb600e2f533e"
      },
      "execution_count": 18,
      "outputs": [
        {
          "output_type": "stream",
          "name": "stdout",
          "text": [
            "[1 2 3 4 5 6 7 8 9]\n",
            "[[1 2 6 7]\n",
            " [3 4 8 9]]\n",
            "[[[1 2]\n",
            "  [6 7]]\n",
            "\n",
            " [[3 4]\n",
            "  [8 9]]]\n",
            "[[1 2 6 7]\n",
            " [3 4 8 9]]\n",
            "[[1 2]\n",
            " [3 4]\n",
            " [6 7]\n",
            " [8 9]]\n",
            "[[[1 6]\n",
            "  [2 7]]\n",
            "\n",
            " [[3 8]\n",
            "  [4 9]]]\n"
          ]
        }
      ]
    },
    {
      "cell_type": "code",
      "source": [
        "#split\n",
        "import numpy as np\n",
        "j_s=np.array([1, 2, 3,4])\n",
        "i_s=np.array([6,7,8,9])\n",
        "arr7=np.array_split(j_s, 4)\n",
        "arr8=np.array_split(i_s, 4)\n",
        "print(arr7)\n",
        "print(arr8)\n",
        "\n",
        "js_2=np.array([[1,2],[2,3],[4,5],[6,7]])\n",
        "arr9=np.array_split(js_2, 4)\n",
        "arr0=arr9=np.array_split(js_2, 4, axis=1)\n",
        "print(arr9)\n",
        "print(arr0)"
      ],
      "metadata": {
        "colab": {
          "base_uri": "https://localhost:8080/"
        },
        "id": "o_1eBAfK3VQX",
        "outputId": "a4d49736-0e9b-4380-d6f1-2a115d14cab8"
      },
      "execution_count": 23,
      "outputs": [
        {
          "output_type": "stream",
          "name": "stdout",
          "text": [
            "[array([1]), array([2]), array([3]), array([4])]\n",
            "[array([6]), array([7]), array([8]), array([9])]\n",
            "[array([[1],\n",
            "       [2],\n",
            "       [4],\n",
            "       [6]]), array([[2],\n",
            "       [3],\n",
            "       [5],\n",
            "       [7]]), array([], shape=(4, 0), dtype=int64), array([], shape=(4, 0), dtype=int64)]\n",
            "[array([[1],\n",
            "       [2],\n",
            "       [4],\n",
            "       [6]]), array([[2],\n",
            "       [3],\n",
            "       [5],\n",
            "       [7]]), array([], shape=(4, 0), dtype=int64), array([], shape=(4, 0), dtype=int64)]\n"
          ]
        }
      ]
    },
    {
      "cell_type": "code",
      "source": [
        "#search\n",
        "import numpy as np\n",
        "wh=np.array([1,2,3,4,5,6])\n",
        "x=np.where(wh== 2)\n",
        "y=np.where(wh% 2==0)#for even\n",
        "print(x)\n",
        "print(y)"
      ],
      "metadata": {
        "colab": {
          "base_uri": "https://localhost:8080/"
        },
        "id": "zZTzSgoOHukJ",
        "outputId": "f64cf649-84fa-4057-e5eb-64d965326086"
      },
      "execution_count": 26,
      "outputs": [
        {
          "output_type": "stream",
          "name": "stdout",
          "text": [
            "(array([1]),)\n",
            "(array([1, 3, 5]),)\n"
          ]
        }
      ]
    },
    {
      "cell_type": "code",
      "source": [
        "#search sort\n",
        "import numpy as np\n",
        "wh1=np.array([1,2,3,5,6])\n",
        "x1=np.searchsorted(wh1, 4)#this  will print idx where 4 should be put\n",
        "y1=np.searchsorted(wh1, [4,5,6], side=\"right\")\n",
        "print(x1)\n",
        "print(y1)"
      ],
      "metadata": {
        "colab": {
          "base_uri": "https://localhost:8080/"
        },
        "id": "6jTbUfIhI8eu",
        "outputId": "c122d922-eae9-4bd9-b41c-793607bc807e"
      },
      "execution_count": 28,
      "outputs": [
        {
          "output_type": "stream",
          "name": "stdout",
          "text": [
            "3\n",
            "[3 4 5]\n"
          ]
        }
      ]
    },
    {
      "cell_type": "code",
      "source": [
        "#sort\n",
        "import numpy as np\n",
        "wh3=np.array([1,2,3,5,6,11,7,44,33,27,8,9,0,22])\n",
        "print(np.sort(wh3))\n",
        "wh4=np.array([\"a\", \"b\", \"t\", \"r\", \"g\"])\n",
        "print(np.sort(wh4))\n",
        "wh5=np.array([[[1,2,3],[5,6,11],[7,44,33],[27,8,9],[0,22, 89]]])\n",
        "print(np.sort(wh5))"
      ],
      "metadata": {
        "colab": {
          "base_uri": "https://localhost:8080/"
        },
        "id": "e0kEj2hQJ937",
        "outputId": "4f530d79-91ae-4fe1-d3b1-73b26068d31a"
      },
      "execution_count": 30,
      "outputs": [
        {
          "output_type": "stream",
          "name": "stdout",
          "text": [
            "[ 0  1  2  3  5  6  7  8  9 11 22 27 33 44]\n",
            "['a' 'b' 'g' 'r' 't']\n",
            "[[[ 1  2  3]\n",
            "  [ 5  6 11]\n",
            "  [ 7 33 44]\n",
            "  [ 8  9 27]\n",
            "  [ 0 22 89]]]\n"
          ]
        }
      ]
    },
    {
      "cell_type": "code",
      "source": [
        "#filter\n",
        "import numpy as np\n",
        "wh6=np.array([\"a\", \"b\", \"t\", \"r\", \"g\"])\n",
        "f=[True, False, True, False, True]\n",
        "new_wh6=wh6[f]\n",
        "print(new_wh6)"
      ],
      "metadata": {
        "colab": {
          "base_uri": "https://localhost:8080/"
        },
        "id": "McC0HIMVTdmL",
        "outputId": "9a7b8e1b-a919-4fa5-82ed-7c03f0ad93f4"
      },
      "execution_count": 31,
      "outputs": [
        {
          "output_type": "stream",
          "name": "stdout",
          "text": [
            "['a' 't' 'g']\n"
          ]
        }
      ]
    },
    {
      "cell_type": "code",
      "source": [
        "#shuffle\n",
        "import numpy as np\n",
        "wh7=np.array([1,2,3,4,5,6,7])\n",
        "np.random.shuffle(wh7)#it will randomly shuffle the array\n",
        "print(wh7)\n"
      ],
      "metadata": {
        "colab": {
          "base_uri": "https://localhost:8080/"
        },
        "id": "GaoXUM5pVEXE",
        "outputId": "c6379ae2-00cc-40f1-91ae-8a17824f468a"
      },
      "execution_count": 34,
      "outputs": [
        {
          "output_type": "stream",
          "name": "stdout",
          "text": [
            "[4 2 1 3 6 7 5]\n"
          ]
        }
      ]
    },
    {
      "cell_type": "code",
      "source": [
        "#unique\n",
        "import numpy as np\n",
        "wh8=np.array([1,2,2,3,4,5,6,6,6,7,7,8,9,8,7,5,9,9,0])#it will not print elements more than once it will convert array to unique elements array\n",
        "x8=np.unique(wh8)\n",
        "x9=np.unique(wh8, return_index=True)#index of el\n",
        "x10=np.unique(wh8, return_counts=True)#return count of el\n",
        "print(x8)\n",
        "print(x9)\n",
        "print(x10)"
      ],
      "metadata": {
        "colab": {
          "base_uri": "https://localhost:8080/"
        },
        "id": "y7mbllZUVl56",
        "outputId": "97e1bdc4-b9d0-4dec-9175-a20c2c5d4fae"
      },
      "execution_count": 37,
      "outputs": [
        {
          "output_type": "stream",
          "name": "stdout",
          "text": [
            "[0 1 2 3 4 5 6 7 8 9]\n",
            "(array([0, 1, 2, 3, 4, 5, 6, 7, 8, 9]), array([18,  0,  1,  3,  4,  5,  6,  9, 11, 12]))\n",
            "(array([0, 1, 2, 3, 4, 5, 6, 7, 8, 9]), array([1, 1, 2, 1, 1, 2, 3, 3, 2, 3]))\n"
          ]
        }
      ]
    },
    {
      "cell_type": "code",
      "source": [
        "#resize\n",
        "import numpy as np\n",
        "w1=np.array([1,2,3,4,5,6,7,8])\n",
        "z=np.resize(w1, (2,3))#2 row, 3 col\n",
        "y=z.flatten()#again back to prev shape\n",
        "u=z.flatten(order=\"C\")\n",
        "v=z.flatten(order=\"A\")\n",
        "s=z.flatten(order=\"K\")\n",
        "t=z.flatten(order=\"F\")\n",
        "print(z)\n",
        "print(y)\n",
        "print(u)\n",
        "print(v)\n",
        "print(s)\n",
        "print(t)"
      ],
      "metadata": {
        "colab": {
          "base_uri": "https://localhost:8080/"
        },
        "id": "Q9Oj8yKXW89c",
        "outputId": "20ad24cf-63f9-4bba-a956-81cad0b397ff"
      },
      "execution_count": 41,
      "outputs": [
        {
          "output_type": "stream",
          "name": "stdout",
          "text": [
            "[[1 2 3]\n",
            " [4 5 6]]\n",
            "[1 2 3 4 5 6]\n",
            "[1 2 3 4 5 6]\n",
            "[1 2 3 4 5 6]\n",
            "[1 2 3 4 5 6]\n",
            "[1 4 2 5 3 6]\n"
          ]
        }
      ]
    },
    {
      "cell_type": "markdown",
      "source": [
        "Order : {'C', 'F', 'A', 'K'}, Optional\n",
        "> 'C' means to flatten in row-major (C-style) order.\n",
        "A\n",
        "> 'F' means to flatten in column-major (Fortran-style) order.\n",
        "\n",
        "> 'A' means to flatten in column-major order if `a' is Fortran *contiguous*\n",
        "in memory, row-major order otherwise.\n",
        "\n",
        "> 'K' means to flatten `a' in the order the elements occur in memory\n",
        "\n",
        "> The default is 'C'."
      ],
      "metadata": {
        "id": "n-TY4c-5YGH6"
      }
    },
    {
      "cell_type": "code",
      "source": [
        "#ravel\n",
        "import numpy as np\n",
        "\n",
        "n = np.array([1, 2, 3, 4, 5, 6])\n",
        "z = np.resize(n, (3, 2))\n",
        "print(np.ravel(n, order=\"F\"))  # Flattened array in Fortran (column-major) order\n",
        "\n",
        "\n"
      ],
      "metadata": {
        "colab": {
          "base_uri": "https://localhost:8080/"
        },
        "id": "SouHiWsaYw02",
        "outputId": "ebe32bca-76a2-41e4-9cff-6f18fdbc0edb"
      },
      "execution_count": 48,
      "outputs": [
        {
          "output_type": "stream",
          "name": "stdout",
          "text": [
            "[1 2 3 4 5 6]\n"
          ]
        }
      ]
    },
    {
      "cell_type": "code",
      "source": [
        "#insert\n",
        "m= np.array([1, 2, 3, 4, 5, 7])\n",
        "o=np.insert(m, 2, 50)#var, index to insert, value to insert\n",
        "p=np.insert(m, (2,4), 50)\n",
        "print (o)\n",
        "print (p)\n",
        "\n",
        "l=np.array([[1, 2, 3], [4, 5, 7]])\n",
        "li=np.insert(l, 2, 6, axis=1)#2 is index where 6 will will be inserted since axis=1 so in cols\n",
        "pi=np.insert(l, 2, 6, axis=0)#2 is index where 6 will will be inserted since axis=0 so in rows\n",
        "si=np.insert(l, 2, [22,23], axis=1)#axis cant be zero here This works because you're inserting\n",
        "#an array [22, 23] at column index 2. Each value (22 and 23) corresponds to a row in the original array l. So it inserts 22 in the first row and 23 in the second row.'''\n",
        "ki=np.insert(l, 2, [22,23,24], axis=0)#axis cant be one\n",
        "print(li)\n",
        "print(pi)\n",
        "print(si)\n",
        "print(ki)\n",
        "#use delete same way"
      ],
      "metadata": {
        "colab": {
          "base_uri": "https://localhost:8080/"
        },
        "id": "P-x0kPpLen-8",
        "outputId": "204b5c07-8199-4e86-8d3b-57eb7ce9812a"
      },
      "execution_count": 67,
      "outputs": [
        {
          "output_type": "stream",
          "name": "stdout",
          "text": [
            "[ 1  2 50  3  4  5  7]\n",
            "[ 1  2 50  3  4 50  5  7]\n",
            "[[1 2 6 3]\n",
            " [4 5 6 7]]\n",
            "[[1 2 3]\n",
            " [4 5 7]\n",
            " [6 6 6]]\n",
            "[[ 1  2 22  3]\n",
            " [ 4  5 23  7]]\n",
            "[[ 1  2  3]\n",
            " [ 4  5  7]\n",
            " [22 23 24]]\n"
          ]
        }
      ]
    },
    {
      "cell_type": "code",
      "source": [
        "#matrix vs array\n",
        "import numpy as np\n",
        "m1=np.matrix([[1,2,3], [4,5,6]])\n",
        "print(m1)\n",
        "print(type(m1))#main diff\n",
        "a1=np.array([[1,2,3], [4,5,6]])\n",
        "print(a1)\n",
        "print(type(a1))#main diff"
      ],
      "metadata": {
        "colab": {
          "base_uri": "https://localhost:8080/"
        },
        "id": "LG05RZl8jIq2",
        "outputId": "c485ba50-f7e0-4e74-bb04-9d301e084f4a"
      },
      "execution_count": 68,
      "outputs": [
        {
          "output_type": "stream",
          "name": "stdout",
          "text": [
            "[[1 2 3]\n",
            " [4 5 6]]\n",
            "<class 'numpy.matrix'>\n",
            "[[1 2 3]\n",
            " [4 5 6]]\n",
            "<class 'numpy.ndarray'>\n"
          ]
        }
      ]
    },
    {
      "cell_type": "code",
      "source": [
        "#Arithmetic function in matrix\n",
        "import numpy as np\n",
        "m3=np.matrix([[1,2,3], [4,5,6]])\n",
        "m4=np.matrix([[7,8,9], [6,5,4]])\n",
        "print(\"Add: \", m3+m4)\n",
        "print(\"Sub: \", m3-m4)\n",
        "#print(m3*m4)this wont be executed bcz Here, m3 has 3 columns, and m4 has 2 rows. To perform matrix multiplication, the number of columns in m3 must match the number of rows in m4.\n",
        "#but we can use dot\n",
        "#for the cond when row col is not eq\n",
        "m32=np.matrix([[1,2], [1,2]])\n",
        "m42=np.matrix([[1,2], [1,2]])\n",
        "print(m32)\n",
        "print(type(m32))\n",
        "print()\n",
        "print(m32*m42)\n",
        "print()\n",
        "print(\"dot: \", m32.dot(m42))\n",
        "\n",
        "print(\"division: \", m3/m4)\n",
        "print(\"Mod: \", m3%m4)\n",
        "#for mul\n",
        "import numpy as np\n",
        "\n",
        "m31 = np.matrix([[1, 2, 3], [4, 5, 6]])\n",
        "m41 = np.matrix([[7, 8], [9, 6], [5, 4]])  # Adjusted to a 3x2 matrix\n",
        "\n",
        "result = m31 * m41\n",
        "\n",
        "print(\"Mul: \",  result)\n",
        "\n",
        "\n",
        "\n",
        "\n",
        "\n"
      ],
      "metadata": {
        "colab": {
          "base_uri": "https://localhost:8080/"
        },
        "id": "0VmPXWTwj2-p",
        "outputId": "262636a4-4c53-4641-d5b1-cdc4866d864b"
      },
      "execution_count": 82,
      "outputs": [
        {
          "output_type": "stream",
          "name": "stdout",
          "text": [
            "Add:  [[ 8 10 12]\n",
            " [10 10 10]]\n",
            "Sub:  [[-6 -6 -6]\n",
            " [-2  0  2]]\n",
            "[[1 2]\n",
            " [1 2]]\n",
            "<class 'numpy.matrix'>\n",
            "\n",
            "[[3 6]\n",
            " [3 6]]\n",
            "\n",
            "dot:  [[3 6]\n",
            " [3 6]]\n",
            "division:  [[0.14285714 0.25       0.33333333]\n",
            " [0.66666667 1.         1.5       ]]\n",
            "Mod:  [[1 2 3]\n",
            " [4 0 2]]\n",
            "Mul:  [[ 40  32]\n",
            " [103  86]]\n"
          ]
        }
      ]
    },
    {
      "cell_type": "code",
      "source": [
        "#matrix Function:\n",
        "#Transpose\n",
        "import numpy as np\n",
        "t2=np.matrix([[1,2,3], [4,5,6]])\n",
        "print(t2)\n",
        "print(np.transpose(t2))#prints transpose\n",
        "print(t2.T)#prints transpose\n"
      ],
      "metadata": {
        "colab": {
          "base_uri": "https://localhost:8080/"
        },
        "id": "NhpQSMd2oH5w",
        "outputId": "4ff30a37-a7f2-49f3-ddf8-ff5100f1231d"
      },
      "execution_count": 83,
      "outputs": [
        {
          "output_type": "stream",
          "name": "stdout",
          "text": [
            "[[1 2 3]\n",
            " [4 5 6]]\n",
            "[[1 4]\n",
            " [2 5]\n",
            " [3 6]]\n",
            "[[1 4]\n",
            " [2 5]\n",
            " [3 6]]\n"
          ]
        }
      ]
    },
    {
      "cell_type": "code",
      "source": [
        "#swapaxes\n",
        "import numpy as np\n",
        "t3=np.matrix([[1,2,3], [4,5,6]])\n",
        "print(t3)\n",
        "print(np.swapaxes(t3,0,1))#swap axes 0 to 1\n",
        "\n",
        "import numpy as np\n",
        "t31=np.matrix([[1,2], [3,4]])\n",
        "print(\"t31: \", t31)\n",
        "print(\"square swapping: \", np.swapaxes(t31,0,1))"
      ],
      "metadata": {
        "colab": {
          "base_uri": "https://localhost:8080/"
        },
        "id": "EanBE_iIoxGb",
        "outputId": "a5669e5c-0cf0-40e3-9e5d-23d44fc35bfc"
      },
      "execution_count": 89,
      "outputs": [
        {
          "output_type": "stream",
          "name": "stdout",
          "text": [
            "[[1 2 3]\n",
            " [4 5 6]]\n",
            "[[1 4]\n",
            " [2 5]\n",
            " [3 6]]\n",
            "t31:  [[1 2]\n",
            " [3 4]]\n",
            "square swapping:  [[1 3]\n",
            " [2 4]]\n"
          ]
        }
      ]
    },
    {
      "cell_type": "markdown",
      "source": [
        "The transpose method swaps the array's axes, effectively reversing the shape of the array. For a 2D array, it converts rows to columns and columns to rows.\n",
        "\n",
        "The swapaxes method allows you to swap two specified axes of an array. This is particularly useful for higher-dimensional arrays where you need more control over the axis swapping."
      ],
      "metadata": {
        "id": "CXNPIEZtpUUz"
      }
    },
    {
      "cell_type": "code",
      "source": [
        "#inverse\n",
        "import numpy as np\n",
        "t33=np.matrix([[1,2], [3,4]])\n",
        "print(\"t33: \", t33)\n",
        "print(np.linalg.inv(t33))"
      ],
      "metadata": {
        "colab": {
          "base_uri": "https://localhost:8080/"
        },
        "id": "hu9XhpeVqFgN",
        "outputId": "431d0541-54d4-48f3-b0d8-5c651424e4ca"
      },
      "execution_count": 90,
      "outputs": [
        {
          "output_type": "stream",
          "name": "stdout",
          "text": [
            "t33:  [[1 2]\n",
            " [3 4]]\n",
            "[[-2.   1. ]\n",
            " [ 1.5 -0.5]]\n"
          ]
        }
      ]
    },
    {
      "cell_type": "code",
      "source": [
        "#power of matrix\n",
        "import numpy as np\n",
        "t36=np.matrix([[1,2], [3,4]])\n",
        "print(\"t36: \", t36)\n",
        "print(\"power 2: \", np.linalg.matrix_power(t33, 2))#power=2\n",
        "print(\"power 3: \", np.linalg.matrix_power(t33, 3))#power=3\n",
        "print(\"power 0: \", np.linalg.matrix_power(t33, 0))#power=0\n",
        "print(\"power -2: \", np.linalg.matrix_power(t33, -2))#power=-2"
      ],
      "metadata": {
        "colab": {
          "base_uri": "https://localhost:8080/"
        },
        "id": "8lI9ftdlqiJZ",
        "outputId": "200f063e-2bfd-4bf7-902c-8275b2c19ee9"
      },
      "execution_count": 96,
      "outputs": [
        {
          "output_type": "stream",
          "name": "stdout",
          "text": [
            "t36:  [[1 2]\n",
            " [3 4]]\n",
            "power 2:  [[ 7 10]\n",
            " [15 22]]\n",
            "power 3:  [[ 37  54]\n",
            " [ 81 118]]\n",
            "power 0:  [[1 0]\n",
            " [0 1]]\n",
            "power -2:  [[ 5.5  -2.5 ]\n",
            " [-3.75  1.75]]\n"
          ]
        }
      ]
    },
    {
      "cell_type": "code",
      "source": [
        "#Determinant\n",
        "import numpy as np\n",
        "t38=np.matrix([[1,2,3], [3,4,3], [1,2,3]])\n",
        "print(t38)\n",
        "print(np.linalg.det(t38))\n"
      ],
      "metadata": {
        "colab": {
          "base_uri": "https://localhost:8080/"
        },
        "id": "9h3Bk2a4rg5F",
        "outputId": "ae016331-72e0-422e-9cd1-31343660d6e9"
      },
      "execution_count": 98,
      "outputs": [
        {
          "output_type": "stream",
          "name": "stdout",
          "text": [
            "[[1 2 3]\n",
            " [3 4 3]\n",
            " [1 2 3]]\n",
            "0.0\n"
          ]
        }
      ]
    }
  ]
}
